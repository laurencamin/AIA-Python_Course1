{
 "cells": [
  {
   "cell_type": "markdown",
   "id": "91738b61",
   "metadata": {
    "id": "c3e413d5"
   },
   "source": [
    "# Workshop 4 [Student]\n",
    "\n",
    "This notebook will cover the following topics:\n",
    "\n",
    "1. Composition\n",
    "2. Encapsulation\n",
    "3. Public v/s Private\n",
    "4. Dunder Methods\n",
    "5. Inheritance\n",
    "6. Mini Project\n"
   ]
  },
  {
   "cell_type": "markdown",
   "id": "67399032",
   "metadata": {
    "id": "41e9aaec"
   },
   "source": [
    "## 4.1 COMPOSITION (Follow):  \n",
    "\n",
    "**Learning Objectives:**\n",
    "\n",
    "1. Understand what things can be placed inside objects\n",
    "2. Understand how to implement an object\n",
    "3. Understand what a program can do with those things inside objects\n",
    "4. Understand what constructors are"
   ]
  },
  {
   "cell_type": "code",
   "execution_count": null,
   "id": "ff229155",
   "metadata": {
    "id": "4da24d64"
   },
   "outputs": [],
   "source": [
    "\"\"\"\n",
    "Add comments for you own reference\n",
    "\"\"\"\n",
    "\n",
    "class Pet:\n",
    "    def __init__(self, name, animal_type, age):\n",
    "        self.name = name \n",
    "        self.animal_type = animal_type\n",
    "        self.age = age\n",
    "        "
   ]
  },
  {
   "cell_type": "code",
   "execution_count": null,
   "id": "64cd7937",
   "metadata": {
    "id": "af3e33de",
    "outputId": "6d0b848e-ac3d-4cc7-e0d6-d4c349d24ed2"
   },
   "outputs": [],
   "source": [
    "\"\"\"\n",
    "Add comments for you own reference\n",
    "\"\"\"\n",
    "\n",
    "def main():\n",
    "    \n",
    "    age = 5\n",
    "    name = \"Spot\"\n",
    "    animal_type = \"Goldfish\"\n",
    "    \n",
    "    mypet = Pet(name, animal_type, age)\n",
    "    \n",
    "    print(type(mypet))\n",
    "    print(mypet)\n",
    "    print_object(mypet)\n",
    "    \n",
    "    \n",
    "def print_object(object_name):\n",
    "    print(object_name.name)\n",
    "    print(object_name.age)\n",
    "    print(object_name.animal_type)\n",
    "    \n",
    "    \n",
    "main()\n"
   ]
  },
  {
   "cell_type": "markdown",
   "id": "b4c3f7b5",
   "metadata": {
    "id": "8de49e9a"
   },
   "source": [
    "### As the above code executes, think about the following questions:\n",
    "\n",
    "1. What does the __init__ function do? The __init__ function creates a space in memory for the class to exist. \n",
    "2. What does the __ in front of a variable do? It serves as a hint to the programmer that a variable is meant for internal use. \n",
    "3. What is a class? It is a set of statements that defines the methods and attributes of an object.\n",
    "4. How could you use a class in programming? You can use a class to manage software complexity."
   ]
  },
  {
   "cell_type": "markdown",
   "id": "a62520e8",
   "metadata": {
    "id": "c53381e8"
   },
   "source": [
    "## 4.1 Composition (Group): \n",
    "\n",
    "**Write a program that will do the following:**\n",
    "\n",
    "1. Implement a class car.\n",
    "2. The class car will have the following attributes: year, make, and model.\n",
    "3. The user can input the information or it may be hard coded.\n",
    "4. The program will create an object of type car and store this information.\n",
    "5. Print the information stored in the object."
   ]
  },
  {
   "cell_type": "code",
   "execution_count": null,
   "id": "95e8be90-c992-4cd7-8035-7506d9b42e7a",
   "metadata": {},
   "outputs": [],
   "source": [
    "class Car:\n",
    "    def __init__(self, year, make, model):\n",
    "        self.year = year\n",
    "        self.make = make\n",
    "        self.model = model"
   ]
  },
  {
   "cell_type": "code",
   "execution_count": null,
   "id": "170d8999",
   "metadata": {
    "id": "012e22e3",
    "outputId": "f6dc1283-624f-4402-f806-7e4e1cbaae43"
   },
   "outputs": [],
   "source": [
    "\n",
    "\n",
    "    def main():\n",
    "        year = 2024\n",
    "        make = \"Lexus\"\n",
    "        model = \"RX350\"\n",
    "\n",
    "        mycar = Car(year, make, model)\n",
    "\n",
    "        print(mycar)\n",
    "        print_object(mycar)\n",
    "    \n",
    "\n",
    "    def print_object(mycar):\n",
    "        print(mycar.year)\n",
    "        print(mycar.make)\n",
    "        print(mycar.model)\n",
    "\n",
    "\n",
    "main()\n"
   ]
  },
  {
   "cell_type": "markdown",
   "id": "aa213e60",
   "metadata": {
    "id": "df0073c0"
   },
   "source": [
    "## 4.2 Encapsulation (Follow):\n",
    "\n",
    "**Learning Objectives:**\n",
    "\n",
    "1. Understand how functions behave inside classes\n",
    "2. Understand how to call functions on classes\n",
    "3. Understand how to manipulate date using function inside classes\n",
    "4. Understand what can and cannot be called inside functions "
   ]
  },
  {
   "cell_type": "code",
   "execution_count": null,
   "id": "06af37ab",
   "metadata": {
    "id": "e32ec1ff"
   },
   "outputs": [],
   "source": [
    "\"\"\"\n",
    "Add comments for you own reference\n",
    "\"\"\"\n",
    "\n",
    "class BankAccount:\n",
    "\n",
    "    def __init__(self1, bal):\n",
    "        self1.__balance = bal \n",
    "\n",
    "    def deposit(self1, amount):\n",
    "        self1.__balance += amount\n",
    "\n",
    "    def withdraw(self1, amount):\n",
    "        if self1.__balance >= amount:\n",
    "            self1.__balance -= amount\n",
    "        else:\n",
    "            print('Error: Insufficient funds')\n",
    "\n",
    "    def get_balance(self1):\n",
    "        return self1.__balance\n",
    "    "
   ]
  },
  {
   "cell_type": "code",
   "execution_count": null,
   "id": "d83c2b91",
   "metadata": {
    "id": "aa637898",
    "outputId": "08a1c213-80c0-434e-d150-9358d6f193cb"
   },
   "outputs": [],
   "source": [
    "\"\"\"\n",
    "Add comments for you own reference\n",
    "\"\"\"\n",
    "\n",
    "if __name__ == '__main__':\n",
    "\n",
    "    start_bal = float(input('Enter your starting balance: '))\n",
    "\n",
    "    savings = BankAccount(start_bal)\n",
    "\n",
    "    pay = float(input('How much were you paid this week? '))\n",
    "    print('I will deposit that into your account.')\n",
    "    savings.deposit(pay)\n",
    "\n",
    "    balance = savings.get_balance()\n",
    "    print(balance)\n",
    "\n",
    "    cash = float(input('How much would you like to withdraw? '))\n",
    "    print('I will withdraw that from your account.')\n",
    "    savings.withdraw(cash)\n",
    "\n",
    "    print(savings.get_balance())\n",
    "    \n",
    "    "
   ]
  },
  {
   "cell_type": "markdown",
   "id": "bac88999",
   "metadata": {
    "id": "137bac34"
   },
   "source": [
    "### As the above code executes, think about the following questions:\n",
    "\n",
    "1. What are the \"__\" for in python? The \"__\" allows programmers to make an attribute private. \n",
    "2. Can you directly return the balance from the account?  Explain. No, you cannot because the attribute is private.\n",
    "3. What does the \"if __ name __ == '__ main __':\" line do? It calls the main() function. \n",
    "4. How do you call functions inside classes? You call functions inside classes by using methods. "
   ]
  },
  {
   "cell_type": "markdown",
   "id": "eda93b4d",
   "metadata": {
    "id": "0f1d2448"
   },
   "source": [
    "## 4.2 Encapsulation (Group): \n",
    "\n",
    "**Write a program that will do the following:**\n",
    "\n",
    "1. Create class information.\n",
    "2. The information class' attributes are name, address, age, and phone number.\n",
    "3. Provide methods to modify and print attributes.\n",
    "4. Outside of the class, accept input from the console to instantiate at least three information objects.  Alternatively, you may hard code these objects.  \n",
    "5. Print the contents to the screen.  "
   ]
  },
  {
   "cell_type": "code",
   "execution_count": null,
   "id": "bc4b60a8",
   "metadata": {
    "id": "370bb894"
   },
   "outputs": [],
   "source": [
    "class Information:\n",
    "    def __init__(self, name, address, age, number):\n",
    "        self.name = name\n",
    "        self.address = address\n",
    "        self.age = age\n",
    "        self.number = number\n",
    "        \n",
    "    def changeName(self, new_name):\n",
    "        self.name = new_name\n",
    "\n",
    "    def changeAddress(self, new_address):\n",
    "        self.address = new_address\n",
    "    \n",
    "    def changeAge(self, new_age):\n",
    "        self.age = new_age\n",
    "    \n",
    "    def changeNumber(self, new_number):\n",
    "        self.number = new_number"
   ]
  },
  {
   "cell_type": "code",
   "execution_count": null,
   "id": "065d4d44",
   "metadata": {
    "id": "6bb3392b",
    "outputId": "50d4a25f-080c-4231-e316-a0fcdf68e227"
   },
   "outputs": [],
   "source": [
    "\n",
    "def main():\n",
    "    # Creating a list to hold multiple Information objects\n",
    "    people = []\n",
    "\n",
    "    # Adding multiple Information objects to the list\n",
    "    people.append(Information(\"Allison Dean\", \"1234 Ocean Way Somewhere, CA\", 40, \"214-100-1000\"))\n",
    "    people.append(Information(\"Bernard Olson\", \"4567 Cinderella Ln Somewhere, TX\", 55, \"469-444-4444\"))\n",
    "    people.append(Information(\"Claire Howard\", \"6789 3rd St. Somewhere, NY\", 25, \"616-899-1000\"))\n",
    "\n",
    "    # Print info for each person\n",
    "    for person in people:\n",
    "        print_info(person)\n",
    "        print()  # Add spacing between persons\n",
    "\n",
    "def print_info(person):\n",
    "    print(\"Name:\", person.name)\n",
    "    print(\"Address:\", person.address)\n",
    "    print(\"Age:\", person.age)\n",
    "    print(\"Number:\", person.number)\n",
    "\n",
    "    # Example of changing information\n",
    "    person.changeName(\"Updated Name\")\n",
    "    person.changeAddress(\"Updated Address\")\n",
    "    person.changeAge(person.age + 1)  # Increment age\n",
    "    person.changeNumber(\"Updated Number\")\n",
    "\n",
    "    print(\"Updated Info:\")\n",
    "    print(\"Name:\", person.name)\n",
    "    print(\"Address:\", person.address)\n",
    "    print(\"Age:\", person.age)\n",
    "    print(\"Number:\", person.number)\n",
    "\n",
    "main()\n"
   ]
  },
  {
   "cell_type": "code",
   "execution_count": null,
   "id": "70ae3898-9f24-4c0c-b3bb-4d4af498e6b5",
   "metadata": {},
   "outputs": [],
   "source": [
    "class Information:\n",
    "    def __init__(self, name, address, age, phone_number):\n",
    "        self.name = name\n",
    "        self.address = address\n",
    "        self.age = age\n",
    "        self.phone_number = phone_number\n",
    "\n",
    "    def modify_info(self, name=None, address=None, age=None, phone_number=None):\n",
    "        if name:\n",
    "            self.name = name\n",
    "        if address:\n",
    "            self.address = address\n",
    "        if age:\n",
    "            self.age = age\n",
    "        if phone_number:\n",
    "            self.phone_number = phone_number\n",
    "\n",
    "    def print_info(self):\n",
    "        print(f\"Name: {self.name}\")\n",
    "        print(f\"Address: {self.address}\")\n",
    "        print(f\"Age: {self.age}\")\n",
    "        print(f\"Phone Number: {self.phone_number}\")\n",
    "\n",
    "# Creating at least 3 information objects with hardcoded values\n",
    "info1 = Information(\"Alice Smith\", \"123 Main St, Springfield\", 30, \"555-1234\")\n",
    "info2 = Information(\"Bob Johnson\", \"456 Oak St, Springfield\", 25, \"555-5678\")\n",
    "info3 = Information(\"Charlie Brown\", \"789 Pine St, Springfield\", 35, \"555-8765\")\n",
    "info4 = Information(\"Bernard Olson\", \"1234 Cinderella Ln, Dallas\", 55, \"444-4444\")\n",
    "\n",
    "# Printing the contents to the screen\n",
    "info1.print_info()\n",
    "print()  # For separating outputs\n",
    "info2.print_info()\n",
    "print()  \n",
    "info3.print_info()\n",
    "info4.print_info()\n",
    "print()"
   ]
  },
  {
   "cell_type": "markdown",
   "id": "85e90bfe",
   "metadata": {},
   "source": [
    "## 4.3 PUBLIC VS PRIVATE (Follow):\n",
    "\n",
    "**Learning Objectives:**\n",
    "\n",
    "1. Understand how public and private scope work with classes\n",
    "2. Learn how to use public and private entities\n",
    "3. Understand the requirement of private and public methods"
   ]
  },
  {
   "cell_type": "code",
   "execution_count": null,
   "id": "ac42562d",
   "metadata": {},
   "outputs": [],
   "source": [
    "\"\"\"\n",
    "Add comments for you own reference\n",
    "\"\"\"\n",
    "\n",
    "class Car:\n",
    "    def __init__(self, year, color):\n",
    "        self.year = year\n",
    "        self.color = color\n",
    "        self.__engineNum = 101\n",
    "    def changeColor(self,color):\n",
    "        self.color = color \n",
    "    def __newEngine(self):\n",
    "        self.__engineNum = 202  \n",
    "    def changeEngine(self):\n",
    "        print(\"Old Engine=\", self.__engineNum)\n",
    "        self.__newEngine()\n",
    "        print(\"New Engine=\", self.__engineNum)"
   ]
  },
  {
   "cell_type": "code",
   "execution_count": null,
   "id": "03be8175",
   "metadata": {},
   "outputs": [],
   "source": [
    "\"\"\"\n",
    "Add comments for your own reference\n",
    "\"\"\"\n",
    "\n",
    "car1 = Car(2002,'Black')\n",
    "print(car1.year,\"-\",car1.color)\n",
    "car1.changeColor(\"Blue\")\n",
    "print(car1.year,\"-\",car1.color)\n",
    "car1.changeEngine()\n",
    "#print(car1.__engineNum)\n",
    "#car1.__newEngine()\n",
    "\n",
    "\n",
    "#print(dir(car1))\n",
    "#car1._Car__engineNum = 1\n",
    "#print(car1._Car__engineNum)\n",
    "#print(car1.__dict__)\n",
    "#car1.parts = 5\n",
    "#print(car1.parts)\n",
    "#print(car1.__dict__)\n",
    "#print(dir(car1))"
   ]
  },
  {
   "cell_type": "markdown",
   "id": "f25c33ac",
   "metadata": {},
   "source": [
    "### As the above code executes, think about the following questions:\n",
    "\n",
    "1. Which methods are public and which are private?\n",
    "2. What is the use for private methods and variables?\n",
    "3. What is the difference between a public and private variable?"
   ]
  },
  {
   "cell_type": "markdown",
   "id": "47d52d1e",
   "metadata": {},
   "source": [
    "## 4.3 PUBLIC VS PRIVATE (Group):\n",
    "\n",
    "**Write a program that will do the following:**\n",
    "\n",
    "1. Create a class that is capable of catergorizing football teams.\n",
    "2. The class should have at least three attributes.\n",
    "3. All of these attributes should be private.\n",
    "4. The class should have functions to print all attributes.\n",
    "5. All functions should be public.\n",
    "6. Create three to four different team objects and print the attributes for each team."
   ]
  },
  {
   "cell_type": "code",
   "execution_count": null,
   "id": "58555258",
   "metadata": {},
   "outputs": [],
   "source": [
    "class FootballTeam:\n",
    "    def __init__(self, name, city, colors, mascot):\n",
    "        self.__name = name #private attributes\n",
    "        self.__city = city\n",
    "        self.__colors = colors\n",
    "        self.__mascot = mascot\n",
    "\n",
    "    def get_name(self):\n",
    "        return self.__name\n",
    "\n",
    "    def get_city(self):\n",
    "        return self.__city\n",
    "\n",
    "    def get_colors(self):\n",
    "        return self.__colors\n",
    "\n",
    "    def get_mascot(self):\n",
    "        return self.__mascot\n",
    "\n",
    "    def print_attributes(self):\n",
    "        print(f\"Team Name: {self.get_name()}\")\n",
    "        print(f\"Team City: {self.get_city()}\")\n",
    "        print(f\"Team Colors: {self.get_colors()}\")\n",
    "        print(f\"Team Mascot: {self.get_mascot()}\")\n",
    "        print(\"\")\n",
    "\n",
    "#printing objects\n",
    "team1 = FootballTeam(\"Ravens\", \"Baltimore\", \"Purple, Black, Gold, Red\", \"Poe\")\n",
    "team2 = FootballTeam(\"Cowboys\", \"Dallas\", \"Navy, Silver, White\", \"Rowdy\")\n",
    "team3 = FootballTeam(\"Commanders\", \"Washington D.C.\", \"Burgundy, Gold, White, Black\", \"Major Tuddy\")\n",
    "team4 = FootballTeam(\"Eagles\", \"Philadelphia\", \"Midnight Green, Silver, Black, White\", \"Swoop\")\n",
    "\n",
    "team1.print_attributes()\n",
    "team2.print_attributes()\n",
    "team3.print_attributes()\n",
    "team4.print_attributes()\n",
    "        "
   ]
  },
  {
   "cell_type": "code",
   "execution_count": null,
   "id": "181b2e43",
   "metadata": {},
   "outputs": [],
   "source": []
  },
  {
   "cell_type": "code",
   "execution_count": null,
   "id": "1ab3bc59-1d38-4c13-a378-3efa2042440b",
   "metadata": {},
   "outputs": [],
   "source": []
  },
  {
   "cell_type": "markdown",
   "id": "576c8a4b",
   "metadata": {},
   "source": [
    "## 4.4 DUNDER METHODS (Follow)\n",
    "\n",
    "**Learning Objectives:**\n",
    "\n",
    "1. Understand how functions behave inside classes\n",
    "2. Understand how to call functions on classes\n",
    "3. Understand how to manipulate data using function inside classes\n",
    "4. Understand what can and cannot be called inside functions "
   ]
  },
  {
   "cell_type": "code",
   "execution_count": null,
   "id": "6f33ea93",
   "metadata": {},
   "outputs": [],
   "source": [
    "#https://www.tutorialsteacher.com/python/magic-methods-in-python\n",
    "#https://towardsdatascience.com/whats-the-meaning-of-single-and-double-underscores-in-python-3d27d57d6bd1\n",
    "#https://mathspp.com/blog/pydonts/dunder-methods\n",
    "\n",
    "\"\"\"\n",
    "Add comments for you own reference\n",
    "\"\"\"\n",
    "\n",
    "class Car:\n",
    "    def __init__(self, year, model, color):\n",
    "        self.year = year\n",
    "        self.model = model\n",
    "        self.color = color\n",
    "    def __str__(self):\n",
    "        return f\"A {self.year}-{self.model} in {self.color}\"\n",
    "\n",
    "#__name__ = \"bob\"\n",
    "#__name__ = \"__main__\"\n",
    "if __name__ == \"__main__\":\n",
    "    this_car = Car(2002,\"BMW\",\"black\")\n",
    "    #print(dir(this_car))\n",
    "    print(this_car)"
   ]
  },
  {
   "cell_type": "markdown",
   "id": "8ccd5ba6",
   "metadata": {},
   "source": [
    "**Evaluation:**\n",
    "\n",
    "After running this program, think about and answer these questions:\n",
    "\n",
    "1. What other dunder methods exist? Some examples of other dunder methods are __rep__, __bool__, __str__, and __eq__. \n",
    "2. What is the use for dunder methods? Dunder methods are special methods that are invoked under special circumstances. "
   ]
  },
  {
   "cell_type": "markdown",
   "id": "50b30740",
   "metadata": {},
   "source": [
    "# 4.4 DUNDER METHODS (Group)\n",
    "\n",
    "**Write a program that will do the following:**\n",
    "\n",
    "1. Create a class Library which has the following attributes:\n",
    "    - Name\n",
    "    - Number of Books\n",
    "    - List of Books and their details\n",
    "3. Store all books in a data structure.\n",
    "4. Each book should contain the following information:\n",
    "    - Title\n",
    "    - ISBN\n",
    "5. All book information needs to be private.\n",
    "6. Write a print function to display all books in the library.\n",
    "8. Write a function to add books to the library: addBook() "
   ]
  },
  {
   "cell_type": "code",
   "execution_count": null,
   "id": "1522889c-7ede-4f58-a08f-8891ca189119",
   "metadata": {},
   "outputs": [],
   "source": [
    "class Library:\n",
    "    def __init__(self, name):\n",
    "        # Initialize library with name and private attributes\n",
    "        self._name = name\n",
    "        self._number_of_books = 0\n",
    "        self._books = []  # List to store book details\n",
    "\n",
    "    def add_book(self, title, isbn):\n",
    "        # Method to add a book to the library\n",
    "        book = {'title': title, 'isbn': isbn}\n",
    "        self._books.append(book)\n",
    "        self._number_of_books += 1\n",
    "\n",
    "    def display_books(self):\n",
    "        # Method to display all books in the library\n",
    "        print(f\"Library: {self._name}\")\n",
    "        print(f\"Number of Books: {self._number_of_books}\")\n",
    "        print(\"Books:\")\n",
    "        for book in self._books:\n",
    "            print(f\"- Title: {book['title']}, ISBN: {book['isbn']}\")\n",
    "\n",
    "\n",
    "# Create a Library instance and test the add_book and display_books methods\n",
    "library = Library(\"My Library\")\n",
    "library.add_book(\"The Great Gatsby\", \"978-0743273565\")\n",
    "library.add_book(\"1984\", \"978-0451524935\")\n",
    "library.add_book(\"To Kill a Mockingbird\", \"978-0060935467\")\n",
    "library.add_book(\"The Moment of Lift\", \"978-1250313577\")\n",
    "library.add_book(\"The Midnight Library\", \"978-0525559474\")\n",
    "# Display the books in the library\n",
    "library.display_books()"
   ]
  },
  {
   "cell_type": "markdown",
   "id": "fc469214",
   "metadata": {
    "id": "b9f5681d"
   },
   "source": [
    "## 4.5 INHERITANCE (Follow):  \n",
    "\n",
    "**Learning Objectives:**\n",
    "\n",
    "1. Understand how inheritance works\n",
    "2. Understand how to declare inheritance\n",
    "3. Understand what is inherited by a class"
   ]
  },
  {
   "cell_type": "code",
   "execution_count": null,
   "id": "0eb6d562",
   "metadata": {
    "id": "a386b86c"
   },
   "outputs": [],
   "source": [
    "\"\"\"\n",
    "Add comments for you own reference\n",
    "\"\"\"\n",
    "\n",
    "class Automobile:\n",
    "    \n",
    "    def __init__(self, make, model, mileage, price):\n",
    "        self.__make = make\n",
    "        self.__model = model\n",
    "        self.__mileage = mileage\n",
    "        self.__price = price\n",
    "\n",
    "    \n",
    "    def set_make(self, make):\n",
    "        self.__make = make\n",
    "\n",
    "    def set_model(self, model):\n",
    "        self.__model = model\n",
    "\n",
    "    def set_mileage(self, mileage):\n",
    "        self.__mileage = mileage\n",
    "\n",
    "    def set_price(self, price):\n",
    "        self.__price = price\n",
    "\n",
    "\n",
    "    def get_make(self):\n",
    "        return self.__make\n",
    "\n",
    "    def get_model(self):\n",
    "        return self.__model\n",
    "\n",
    "    def get_mileage(self):\n",
    "        return self.__mileage\n",
    "\n",
    "    def get_price(self):\n",
    "        return self.__price\n"
   ]
  },
  {
   "cell_type": "code",
   "execution_count": null,
   "id": "d0fda477",
   "metadata": {
    "id": "7q6wI8HygYO8"
   },
   "outputs": [],
   "source": [
    "\"\"\"\n",
    "Add comments for you own reference\n",
    "\"\"\"\n",
    "\n",
    "class Car(Automobile):\n",
    "    \n",
    "    def __init__(self, make, model, mileage, price, doors):\n",
    "         \n",
    "        Automobile.__init__(self, make, model, mileage, price)\n",
    "        self.__doors = doors\n",
    "    \n",
    "    def set_doors(self, doors):\n",
    "        self.__doors = doors\n",
    "\n",
    "    def get_doors(self):\n",
    "        return self.__doors\n",
    "    \n",
    "    #def get_make(self):\n",
    "     #   print(\"Car get make\")\n",
    "      #  return super().get_make()\n",
    "        #return self.__make\n",
    "        \n"
   ]
  },
  {
   "cell_type": "code",
   "execution_count": null,
   "id": "918e0b42",
   "metadata": {
    "id": "uCYc3kZ3giy7"
   },
   "outputs": [],
   "source": [
    "\"\"\"\n",
    "Add comments for you own reference\n",
    "\"\"\"\n",
    "\n",
    "class Truck(Automobile):\n",
    "    \n",
    "    def __init__(self, make, model, mileage, price, drive_type):\n",
    "        Automobile.__init__(self, make, model, mileage, price)\n",
    "        \n",
    "        self.__drive_type = drive_type\n",
    "\n",
    "    \n",
    "    def set_drive_type(self, drive_type):\n",
    "        self.__drive_type = drive_type\n",
    "\n",
    "    def get_drive_type(self):\n",
    "        return self.__drive_type\n"
   ]
  },
  {
   "cell_type": "code",
   "execution_count": null,
   "id": "8082f33e",
   "metadata": {
    "id": "XePI46Evgqbv"
   },
   "outputs": [],
   "source": [
    "\"\"\"\n",
    "Add comments for you own reference\n",
    "\"\"\"\n",
    "\n",
    "class SUV(Automobile):\n",
    "    \n",
    "    def __init__(self, make, model, mileage, price, pass_cap):\n",
    "        Automobile.__init__(self, make, model, mileage, price)\n",
    "        \n",
    "        self.__pass_cap = pass_cap\n",
    "\n",
    "    \n",
    "    def set_pass_cap(self, pass_cap):\n",
    "        self.__pass_cap = pass_cap\n",
    "\n",
    "    def get_pass_cap(self):\n",
    "        return self.__pass_cap"
   ]
  },
  {
   "cell_type": "code",
   "execution_count": null,
   "id": "edf2bca1",
   "metadata": {
    "id": "2cc062ca"
   },
   "outputs": [],
   "source": [
    "\"\"\"\n",
    "Add comments for you own reference\n",
    "\"\"\"\n",
    "\n",
    "used_car = Car('Audi', 2007, 12500, 21500.00, 4)\n",
    "\n",
    "print('Make:', used_car.get_make())\n",
    "print('Model:', used_car.get_model())\n",
    "print('Mileage:', used_car.get_mileage())\n",
    "print('Price:', used_car.get_price())\n",
    "print('Number of doors:', used_car.get_doors())\n",
    "\n",
    "#print(dir(used_car))\n"
   ]
  },
  {
   "cell_type": "markdown",
   "id": "896760e1",
   "metadata": {
    "id": "dQaOC50_hhvk"
   },
   "source": [
    "### As the above code executes, think about the following questions:\n",
    "\n",
    "1. Create objects for the truck and SUV classes for the above code.\n",
    "2. Print the information for each created object.\n",
    "3. What does putting Automobile in parenthesis do? "
   ]
  },
  {
   "cell_type": "markdown",
   "id": "6e3f529a",
   "metadata": {
    "id": "ff0066ba"
   },
   "source": [
    "# 4.5 Inheritance (Group):  \n",
    "\n",
    "**Write a program that will do the following:**\n",
    "\n",
    "1. Create a savings account base class.\n",
    "2. Create a class CD which inherits class savings.\n",
    "3. The savings class should contain account number, interest rate, and balance.\n",
    "4. CD class should contain maturity date along with all inherited attributes.\n",
    "5. Both classes should have functions to access and change all attributes.\n",
    "6. Write some code to access and change the attributes."
   ]
  },
  {
   "cell_type": "code",
   "execution_count": null,
   "id": "9b813260-bc78-463e-b1f2-dbbf99dc168a",
   "metadata": {},
   "outputs": [],
   "source": [
    "class SavingsAccount:\n",
    "    def __init__(self, account_number, interest_rate, balance):\n",
    "        self.__account_number = account_number\n",
    "        self.__interest_rate = interest_rate\n",
    "        self.__balance = float(balance.replace('$', '').replace(',', ''))\n",
    "\n",
    "    def set_account_number(self, account_number):\n",
    "        self.__account_number = account_number\n",
    "\n",
    "    def set_interest_rate(self, interest_rate):\n",
    "        self.__interest_rate = interest_rate\n",
    "        \n",
    "    def set_balance(self, balance):\n",
    "        self.__balance = float(balance.replace('$', '').replace(',', ''))\n",
    "\n",
    "    def get_account_number(self):\n",
    "        return self.__account_number\n",
    "\n",
    "    def get_interest_rate(self):\n",
    "        return self.__interest_rate \n",
    "\n",
    "    def get_balance(self):\n",
    "        return self.__balance \n",
    "    \n",
    "class CD(SavingsAccount):\n",
    "    def __init__(self, account_number, interest_rate, balance, maturity_date):\n",
    "        super().__init__(account_number, interest_rate, balance)\n",
    "        self.__maturity_date = maturity_date\n",
    "\n",
    "    def set_maturity_date(self, maturity_date):\n",
    "        self.__maturity_date = maturity_date\n",
    "\n",
    "    def get_maturity_date(self):\n",
    "        return self.__maturity_date    \n",
    "\n",
    "# Creating an instance of CD\n",
    "used_account = CD('1012345', '3.5%', '$5,000.00', \"11.4.2028\")\n",
    "\n",
    "# Printing account details\n",
    "print(\"Account Number:\", used_account.get_account_number())\n",
    "print(\"Interest Rate:\", used_account.get_interest_rate())\n",
    "print(\"Balance:\", used_account.get_balance())\n",
    "print(\"Maturity Date:\", used_account.get_maturity_date())"
   ]
  },
  {
   "cell_type": "code",
   "execution_count": null,
   "id": "bfd25b84",
   "metadata": {
    "executionInfo": {
     "elapsed": 4,
     "status": "ok",
     "timestamp": 1643218896122,
     "user": {
      "displayName": "Travis Martin",
      "photoUrl": "https://lh3.googleusercontent.com/a/default-user=s64",
      "userId": "17005528951968776844"
     },
     "user_tz": 360
    },
    "id": "ab1742b9"
   },
   "outputs": [],
   "source": [
    "class SavingsAccount:\n",
    "    def __init__(self, account_number, interest_rate, balance):\n",
    "        self.__account_number = account_number\n",
    "        self.__interest_rate = interest_rate\n",
    "        self.__balance = balance\n",
    "\n",
    "    def set_account_number(self, account_number):\n",
    "        self.__account_number = account_number\n",
    "\n",
    "    def set_interest_rate(self, interest_rate):\n",
    "        self.__interest_rate = interest_rate\n",
    "        \n",
    "    def set_balance(self, balance):\n",
    "        self.__balance = balance\n",
    "\n",
    "    def get_account_number(self):\n",
    "        return self.__account_number\n",
    "\n",
    "    def get_interest_rate(self):\n",
    "        return self.__interest_rate \n",
    "\n",
    "    def get_balance(self):\n",
    "        return self.__balance \n",
    "    \n",
    "    \n",
    "    \n"
   ]
  },
  {
   "cell_type": "code",
   "execution_count": null,
   "id": "29654b20",
   "metadata": {
    "executionInfo": {
     "elapsed": 406,
     "status": "ok",
     "timestamp": 1643218901215,
     "user": {
      "displayName": "Travis Martin",
      "photoUrl": "https://lh3.googleusercontent.com/a/default-user=s64",
      "userId": "17005528951968776844"
     },
     "user_tz": 360
    },
    "id": "bWN9I3ndeLh7"
   },
   "outputs": [],
   "source": [
    "class CD(SavingsAccount):\n",
    "    \n",
    "    def __init__(self, account_number, interest_rate, balance, maturity_date):\n",
    "        \n",
    "        SavingsAccount.__init__(self, account_number, interest_rate, balance)\n",
    "        self.__maturity_date = maturity_date\n",
    "\n",
    "    def set_maturity_date(self, maturity_date):\n",
    "        self.__maturity_date = maturity_date\n",
    "\n",
    "    def get_maturity_date(self):\n",
    "        return self.__maturity_date\n",
    "\n"
   ]
  },
  {
   "cell_type": "code",
   "execution_count": null,
   "id": "9b9b9da4",
   "metadata": {
    "colab": {
     "base_uri": "https://localhost:8080/"
    },
    "executionInfo": {
     "elapsed": 41205,
     "status": "ok",
     "timestamp": 1643218945139,
     "user": {
      "displayName": "Travis Martin",
      "photoUrl": "https://lh3.googleusercontent.com/a/default-user=s64",
      "userId": "17005528951968776844"
     },
     "user_tz": 360
    },
    "id": "3779d26c",
    "outputId": "68e7a265-18f0-41cd-ce13-f22a48bfa8c4"
   },
   "outputs": [],
   "source": [
    "\n",
    "used_account = CD('10123335', '5.5%', '$10,000.00', \"11.4.2028\")\n",
    "\n",
    "print(\"Account Number:\", used_account.get_account_number())\n",
    "print(\"Interest Rate:\", used_account.get_interest_rate())\n",
    "print(\"Balance:\", used_account.get_balance())\n",
    "print(\"Maturity Date:\", used_account.get_maturity_date())\n"
   ]
  },
  {
   "cell_type": "markdown",
   "id": "71a1fabb",
   "metadata": {
    "id": "Lv4WoegwSfcq"
   },
   "source": [
    "## Week 4 MINI PROJECT\n",
    "\n",
    "The project should be created to be useful in your life.  Here are some guidelines for the project.\n",
    "\n",
    "1. Create a class employee.\n",
    "2. Class employee should contain 2 to 3 attributes.\n",
    "3. Create 1-2 other classes that inherit employee class.\n",
    "4. Each of the sub classes should have 2-3 attributes.\n",
    "5. Make sure to write functions that can both change and print attributes."
   ]
  },
  {
   "cell_type": "code",
   "execution_count": 1,
   "id": "5b4bae5b",
   "metadata": {
    "executionInfo": {
     "elapsed": 155,
     "status": "ok",
     "timestamp": 1643222178342,
     "user": {
      "displayName": "Travis Martin",
      "photoUrl": "https://lh3.googleusercontent.com/a/default-user=s64",
      "userId": "17005528951968776844"
     },
     "user_tz": 360
    },
    "id": "4evC8OBxTUsd"
   },
   "outputs": [],
   "source": [
    "class Employee:\n",
    "    def __init__(self, name, id_number, department, role):\n",
    "        self.__name = name\n",
    "        self.__id_number = id_number\n",
    "        self.__department = department \n",
    "        self.__role = role\n",
    "        \n",
    "\n",
    "    def set_name(self, name):\n",
    "        self.__name = name\n",
    "\n",
    "    def set_employee_id(self, id_number):\n",
    "        self.__id_number = id_number\n",
    "\n",
    "    def set_employee_department(self, department):\n",
    "        self.__department = department\n",
    "\n",
    "    def set_employee_role(self, role):\n",
    "        self.__role = role\n",
    "\n",
    "    def get_name(self):\n",
    "        return self.__name \n",
    "        \n",
    "    def get_employee_id(self):\n",
    "        return self.__id_number\n",
    "\n",
    "    def get_employee_department(self):\n",
    "        return self.__department\n",
    "\n",
    "    def get_employee_role(self):\n",
    "        return self.__role \n",
    "\n",
    "    \n",
    "\n"
   ]
  },
  {
   "cell_type": "code",
   "execution_count": 3,
   "id": "7de08046",
   "metadata": {
    "executionInfo": {
     "elapsed": 164,
     "status": "ok",
     "timestamp": 1643222303421,
     "user": {
      "displayName": "Travis Martin",
      "photoUrl": "https://lh3.googleusercontent.com/a/default-user=s64",
      "userId": "17005528951968776844"
     },
     "user_tz": 360
    },
    "id": "OY70eOxeqjyv"
   },
   "outputs": [],
   "source": [
    "class Manager(Employee):\n",
    "    def __init__(self, name, id_number, department, role, team):\n",
    "       \n",
    "        Employee.__init__(self, name, id_number, department, role)\n",
    "        self.__team = team \n",
    "\n",
    "    def set_employee_team(self, team):\n",
    "        self.__team = team\n",
    "\n",
    "    def get_employee_team(self):\n",
    "        return self.__team\n",
    "\n"
   ]
  },
  {
   "cell_type": "code",
   "execution_count": 18,
   "id": "a7932885",
   "metadata": {
    "colab": {
     "base_uri": "https://localhost:8080/"
    },
    "executionInfo": {
     "elapsed": 6633,
     "status": "ok",
     "timestamp": 1643222312321,
     "user": {
      "displayName": "Travis Martin",
      "photoUrl": "https://lh3.googleusercontent.com/a/default-user=s64",
      "userId": "17005528951968776844"
     },
     "user_tz": 360
    },
    "id": "sMUtesyxqnCX",
    "outputId": "1d9d149f-fb69-47af-d962-535336147288"
   },
   "outputs": [],
   "source": [
    "class CTO(Manager):\n",
    "    def __init__(self, name, id_number, department, role, team, experience):\n",
    "\n",
    "        Manager.__init__(self, name, id_number, department, role, team)\n",
    "        self.__experience = experience\n",
    "\n",
    "    def set_employee_experience(self, experience):\n",
    "        self.__experience = experience\n",
    "\n",
    "    def get_employee_experience(self):\n",
    "        return self.__experience\n"
   ]
  },
  {
   "cell_type": "code",
   "execution_count": 20,
   "id": "a94a5910-6ed0-49ef-bb91-573f10a443db",
   "metadata": {},
   "outputs": [
    {
     "name": "stdout",
     "output_type": "stream",
     "text": [
      "Name: Bob Heath\n",
      "ID Number: 11445\n",
      "Department: Legal\n",
      "Role: Managing Attorney\n",
      "Team: Legal Operations\n",
      "\n",
      "Name: Mike Johnson\n",
      "ID Number: 11444\n",
      "Department: Office of the CTO\n",
      "Role: Chief Technology Officer\n",
      "Team: Technology\n",
      "Years of Experience: 25\n"
     ]
    }
   ],
   "source": [
    "first_employee = Manager(\"Bob Heath\", \"11445\", \"Legal\", \"Managing Attorney\", \"Legal Operations\")\n",
    "\n",
    "print(\"Name:\", first_employee.get_name())\n",
    "print(\"ID Number:\", first_employee.get_employee_id())\n",
    "print(\"Department:\", first_employee.get_employee_department())\n",
    "print(\"Role:\", first_employee.get_employee_role())\n",
    "print(\"Team:\", first_employee.get_employee_team())\n",
    "print(\"\")\n",
    "\n",
    "second_employee = CTO(\"Mike Johnson\", \"11444\", \"Office of the CTO\", \"Chief Technology Officer\", \"Technology\", \"25\")\n",
    "\n",
    "print(\"Name:\", second_employee.get_name())\n",
    "print(\"ID Number:\", second_employee.get_employee_id())\n",
    "print(\"Department:\", second_employee.get_employee_department())\n",
    "print(\"Role:\", second_employee.get_employee_role())\n",
    "print(\"Team:\", second_employee.get_employee_team())\n",
    "print(\"Years of Experience:\", second_employee.get_employee_experience())\n"
   ]
  },
  {
   "cell_type": "code",
   "execution_count": null,
   "id": "982fe08b-efb3-4230-bf91-75c5391fb7b5",
   "metadata": {},
   "outputs": [],
   "source": []
  }
 ],
 "metadata": {
  "colab": {
   "collapsed_sections": [],
   "name": "WSK Week 4 Solutions.ipynb",
   "provenance": []
  },
  "kernelspec": {
   "display_name": "Python [conda env:base]",
   "language": "python",
   "name": "conda-base-py"
  },
  "language_info": {
   "codemirror_mode": {
    "name": "ipython",
    "version": 3
   },
   "file_extension": ".py",
   "mimetype": "text/x-python",
   "name": "python",
   "nbconvert_exporter": "python",
   "pygments_lexer": "ipython3",
   "version": "3.12.7"
  }
 },
 "nbformat": 4,
 "nbformat_minor": 5
}
