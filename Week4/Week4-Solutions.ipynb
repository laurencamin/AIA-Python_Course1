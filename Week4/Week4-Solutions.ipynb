{
 "cells": [
  {
   "cell_type": "markdown",
   "id": "91738b61",
   "metadata": {
    "id": "c3e413d5"
   },
   "source": [
    "# Workshop 4 [SOLUTIONS]\n",
    "\n",
    "This notebook will cover the following topics:\n",
    "\n",
    "1. Composition\n",
    "2. Encapsulation\n",
    "3. Public v/s Private\n",
    "4. Dunder Methods\n",
    "5. Inheritance\n",
    "6. Mini Project\n"
   ]
  },
  {
   "cell_type": "markdown",
   "id": "67399032",
   "metadata": {
    "id": "41e9aaec"
   },
   "source": [
    "## 4.1 COMPOSITION (Follow):  \n",
    "\n",
    "**Learning Objectives:**\n",
    "\n",
    "1. Understand what things can be placed inside objects\n",
    "2. Understand how to implement an object\n",
    "3. Understand what a program can do with those things inside objects\n",
    "4. Understand what constructors are"
   ]
  },
  {
   "cell_type": "code",
   "execution_count": null,
   "id": "ff229155",
   "metadata": {
    "id": "4da24d64"
   },
   "outputs": [],
   "source": [
    "\"\"\"\n",
    "Add comments for you own reference\n",
    "\"\"\"\n",
    "\n",
    "class Pet():\n",
    "    def __init__(self, name, animal_type, age):\n",
    "        self.name = name\n",
    "        self.animal_type = animal_type\n",
    "        self.age = age\n",
    "        "
   ]
  },
  {
   "cell_type": "code",
   "execution_count": null,
   "id": "64cd7937",
   "metadata": {
    "id": "af3e33de",
    "outputId": "6d0b848e-ac3d-4cc7-e0d6-d4c349d24ed2"
   },
   "outputs": [],
   "source": [
    "\"\"\"\n",
    "Add comments for you own reference\n",
    "\"\"\"\n",
    "\n",
    "def main():\n",
    "    \n",
    "    age = 5\n",
    "    name = \"Spot\"\n",
    "    animal_type = \"Goldfish\"\n",
    "    \n",
    "    mypet = Pet(name, animal_type, age)\n",
    "\n",
    "    print_object(mypet)\n",
    "    \n",
    "    \n",
    "def print_object(object_name):\n",
    "    print(object_name.name)\n",
    "    print(object_name.age)\n",
    "    print(object_name.animal_type)\n",
    "    \n",
    "    \n",
    "main()"
   ]
  },
  {
   "cell_type": "markdown",
   "id": "b4c3f7b5",
   "metadata": {
    "id": "8de49e9a"
   },
   "source": [
    "### As the above code executes, think about the following questions:\n",
    "\n",
    "1. What does the __init__ function do?\n",
    "2. What does the __ in front of a vairable do?\n",
    "3. What is a class?\n",
    "4. How could you use a class in programming?"
   ]
  },
  {
   "cell_type": "markdown",
   "id": "a62520e8",
   "metadata": {
    "id": "c53381e8"
   },
   "source": [
    "## 4.1 Composition (Group): \n",
    "\n",
    "**Write a program that will do the following:**\n",
    "\n",
    "1. Implement a class car.\n",
    "2. The class car will have the following attributes: year, make, and model.\n",
    "3. The user can input the information or it may be hard coded.\n",
    "4. The program will create an object of type car and store this information.\n",
    "5. Print the information stored in the object."
   ]
  },
  {
   "cell_type": "code",
   "execution_count": null,
   "id": "170d8999",
   "metadata": {
    "id": "012e22e3",
    "outputId": "f6dc1283-624f-4402-f806-7e4e1cbaae43"
   },
   "outputs": [],
   "source": [
    "\"\"\"\n",
    "Add comments for you own reference\n",
    "\"\"\"\n",
    "\n",
    "class Car:\n",
    "    def __init__(self, year, model, make):\n",
    "        self.year = year;\n",
    "        self.make = make\n",
    "        self.model = model\n",
    "        \n",
    "def main():\n",
    "    year = 95\n",
    "    make = \"Ford\"\n",
    "    model = \"Escort\"\n",
    "\n",
    "    mycar = Car(year, make, model)\n",
    "    \n",
    "    print_object(mycar)\n",
    "    \n",
    "    \n",
    "def print_object(the_object):\n",
    "    print(the_object.year)\n",
    "    print(the_object.make)\n",
    "    print(the_object.model)\n",
    "    \n",
    "main()    "
   ]
  },
  {
   "cell_type": "markdown",
   "id": "aa213e60",
   "metadata": {
    "id": "df0073c0"
   },
   "source": [
    "## 4.2 Encapsulation (Follow):\n",
    "\n",
    "**Learning Objectives:**\n",
    "\n",
    "1. Understand how functions behave inside classes\n",
    "2. Understand how to call functions on classes\n",
    "3. Understand how to manipulate date using function inside classes\n",
    "4. Understand what can and cannot be called inside functions "
   ]
  },
  {
   "cell_type": "code",
   "execution_count": null,
   "id": "06af37ab",
   "metadata": {
    "id": "e32ec1ff"
   },
   "outputs": [],
   "source": [
    "\"\"\"\n",
    "Add comments for you own reference\n",
    "\"\"\"\n",
    "\n",
    "class BankAccount:\n",
    "\n",
    "    def __init__(self, bal):\n",
    "        self.__balance = bal \n",
    "\n",
    "    def deposit(self, amount):\n",
    "        self.__balance += amount\n",
    "\n",
    "    def withdraw(self, amount):\n",
    "        if self.__balance >= amount:\n",
    "            self.__balance -= amount\n",
    "        else:\n",
    "            print('Error: Insufficient funds')\n",
    "\n",
    "    def get_balance(self):\n",
    "        return self.__balance\n",
    "    "
   ]
  },
  {
   "cell_type": "code",
   "execution_count": null,
   "id": "d83c2b91",
   "metadata": {
    "id": "aa637898",
    "outputId": "08a1c213-80c0-434e-d150-9358d6f193cb"
   },
   "outputs": [],
   "source": [
    "\"\"\"\n",
    "Add comments for you own reference\n",
    "\"\"\"\n",
    "\n",
    "if __name__ == '__main__':\n",
    "\n",
    "    start_bal = float(input('Enter your starting balance: '))\n",
    "\n",
    "    savings = BankAccount(start_bal)\n",
    "\n",
    "    pay = float(input('How much were you paid this week? '))\n",
    "    print('I will deposit that into your account.')\n",
    "    savings.deposit(pay)\n",
    "\n",
    "    balance = savings.get_balance()\n",
    "    print(balance)\n",
    "\n",
    "    cash = float(input('How much would you like to withdraw? '))\n",
    "    print('I will withdraw that from your account.')\n",
    "    savings.withdraw(cash)\n",
    "\n",
    "    print(savings.get_balance())"
   ]
  },
  {
   "cell_type": "markdown",
   "id": "bac88999",
   "metadata": {
    "id": "137bac34"
   },
   "source": [
    "### As the above code executes, think about the following questions:\n",
    "\n",
    "1. What are the \"__\" for in python?\n",
    "2. Can you directly return the balance from the account?  Explain.\n",
    "3. What does the \"if __ name __ == '__ main __':\" line do?\n",
    "4. How do you call functions inside classes?"
   ]
  },
  {
   "cell_type": "markdown",
   "id": "eda93b4d",
   "metadata": {
    "id": "0f1d2448"
   },
   "source": [
    "## 4.2 Encapsulation (Group): \n",
    "\n",
    "**Write a program that will do the following:**\n",
    "\n",
    "1. Create class information.\n",
    "2. The information class' attributes are name, address, age, and phone number.\n",
    "3. Provide methods to modify and print attributes.\n",
    "4. Outside of the class, accept input from the console to instantiate at least three information objects.  Alternatively, you may hard code these objects.  \n",
    "5. Print the contents to the screen.  "
   ]
  },
  {
   "cell_type": "code",
   "execution_count": null,
   "id": "bc4b60a8",
   "metadata": {
    "id": "370bb894"
   },
   "outputs": [],
   "source": [
    "\"\"\"\n",
    "Add comments for you own reference\n",
    "\"\"\"\n",
    "\n",
    "class Information:\n",
    "    def __init__(self, name, address, age, phone_number):\n",
    "        self.__name = name\n",
    "        self.__address = address\n",
    "        self.__age = age\n",
    "        self.__phone_number = phone_number\n",
    "\n",
    "\n",
    "    def set_name(self, name):\n",
    "        self.__name = name\n",
    "\n",
    "    def set_address(self, address):\n",
    "        self.__address = address\n",
    "\n",
    "    def set_age(self, age):\n",
    "        self.__age = age\n",
    "\n",
    "    def set_phone_number(self, phone_number):\n",
    "        self.__phone_number = phone_number\n",
    "    \n",
    "    def get_name(self):\n",
    "        return self.__name\n",
    "        \n",
    "    def get_address(self):\n",
    "        return self.__address\n",
    "        \n",
    "    def get_age(self):\n",
    "        return self.__age\n",
    "\n",
    "    def get_phone_number(self):\n",
    "        return self.__phone_number\n",
    "\n"
   ]
  },
  {
   "cell_type": "code",
   "execution_count": null,
   "id": "065d4d44",
   "metadata": {
    "id": "6bb3392b",
    "outputId": "50d4a25f-080c-4231-e316-a0fcdf68e227"
   },
   "outputs": [],
   "source": [
    "\"\"\"\n",
    "Add comments for you own reference\n",
    "\"\"\"\n",
    "\n",
    "def main():\n",
    "    # Create three instances of Information\n",
    "    my_info = Information('John Doe','111 My Street',\n",
    "                               22, '555-555-1281')\n",
    "    mom_info = Information('Mom', '222 Any Street',\n",
    "                                52, '555-555-1234')\n",
    "    sister_info = Information('Jane Doe', '333 Her Street',\n",
    "                                   20, '555-555-4444')\n",
    "\n",
    "    print('My information:')\n",
    "    display_info(my_info)\n",
    "    print()\n",
    "    print(\"Mom's information:\")\n",
    "    display_info(mom_info)\n",
    "    print()\n",
    "    print (\"Sis's infomation:\")\n",
    "    display_info(sister_info)\n",
    "\n",
    "def display_info(info):\n",
    "    print(f'Name: {info.get_name()}')\n",
    "    print(f'Address: {info.get_address()}')\n",
    "    print(f'Age: {info.get_age()}')\n",
    "    print(f'Phone Number: {info.get_phone_number()}')\n",
    "\n",
    "if __name__ == '__main__':\n",
    "    main()"
   ]
  },
  {
   "cell_type": "markdown",
   "id": "85e90bfe",
   "metadata": {},
   "source": [
    "## 4.3 PUBLIC VS PRIVATE (Follow):\n",
    "\n",
    "**Learning Objectives:**\n",
    "\n",
    "1. Understand how public and private scope work with classes\n",
    "2. Learn how to use public and private entities\n",
    "3. Understand the requirement of private and public methods"
   ]
  },
  {
   "cell_type": "code",
   "execution_count": null,
   "id": "ac42562d",
   "metadata": {},
   "outputs": [],
   "source": [
    "#https://www.tutorialsteacher.com/python/public-private-protected-modifiers\n",
    "\"\"\"\n",
    "Add comments for you own reference\n",
    "\"\"\"\n",
    "\n",
    "class Car:\n",
    "    def __init__(self, year, color):\n",
    "        self.year = year\n",
    "        self.color = color\n",
    "        self.__engineNum = 101\n",
    "    def changeColor(self,color):\n",
    "        self.color = color \n",
    "    def __newEngine(self):\n",
    "        self.__engineNum = 202  \n",
    "    def changeEngine(self):\n",
    "        print(\"Old Engine=\", self.__engineNum)\n",
    "        self.__newEngine()\n",
    "        print(\"New Engine=\", self.__engineNum)"
   ]
  },
  {
   "cell_type": "code",
   "execution_count": null,
   "id": "03be8175",
   "metadata": {},
   "outputs": [],
   "source": [
    "\"\"\"\n",
    "Add comments for you own reference\n",
    "\"\"\"\n",
    "\n",
    "car1 = Car(2002,'Black')\n",
    "print(car1.year,\"-\",car1.color)\n",
    "car1.changeColor(\"Blue\")\n",
    "print(car1.year,\"-\",car1.color)\n",
    "car1.changeEngine()\n",
    "#car1.__engineNum"
   ]
  },
  {
   "cell_type": "markdown",
   "id": "f25c33ac",
   "metadata": {},
   "source": [
    "### As the above code executes, think about the following questions:\n",
    "\n",
    "1. Which methods are public and which are private?\n",
    "2. What is the use for private methods and variables?\n",
    "3. What is the difference between a public and private variable?"
   ]
  },
  {
   "cell_type": "markdown",
   "id": "9e0459b9",
   "metadata": {},
   "source": [
    "## 4.3 PUBLIC VS PRIVATE (Group):\n",
    "\n",
    "**Write a program that will do the following:**\n",
    "\n",
    "1. Create a class that is capable of catergorizing football teams.\n",
    "2. The class should have at least three attributes.\n",
    "3. All of these attributes should be private.\n",
    "4. The class should have functions to print all attributes.\n",
    "5. All functions should be public.\n",
    "6. Create three to four different team objects and print the attributes for each team."
   ]
  },
  {
   "cell_type": "code",
   "execution_count": null,
   "id": "ca245450",
   "metadata": {},
   "outputs": [],
   "source": [
    "\"\"\"\n",
    "Add comments for you own reference\n",
    "\"\"\"\n",
    "class football_team:\n",
    "    def __init__(self, name, record, colors, city):\n",
    "        self.__name = name\n",
    "        self.__record = record\n",
    "        self.__team_colors = colors\n",
    "        self.__city = city\n",
    "        \n",
    "    def print_attributes(self):\n",
    "        print('Team name: ', self.__name)\n",
    "        print('Team record: ', self.__record)\n",
    "        print('Team colors: ', self.__team_colors)\n",
    "        print('Team city: ', self.__city)\n",
    "        "
   ]
  },
  {
   "cell_type": "code",
   "execution_count": null,
   "id": "53dfa8e1",
   "metadata": {},
   "outputs": [],
   "source": [
    "chiefs = football_team('Chiefs', '14-3', 'Red and White', 'Kansas City')\n",
    "lions = football_team('Lions', '9-8', 'Blue and White', 'Detroit')\n",
    "vikings = football_team('Vikings', '13-4', 'Purple and Gold', 'Minesota')\n",
    "panthers = football_team('Panthers', '7-10', 'Teal and Black', 'Charlotte')\n",
    "\n",
    "chiefs.print_attributes()\n",
    "lions.print_attributes()"
   ]
  },
  {
   "cell_type": "markdown",
   "id": "576c8a4b",
   "metadata": {},
   "source": [
    "## 4.4 DUNDER METHODS (Follow)\n",
    "\n",
    "**Learning Objectives:**\n",
    "\n",
    "1. Understand how functions behave inside classes\n",
    "2. Understand how to call functions on classes\n",
    "3. Understand how to manipulate date using function inside classes\n",
    "4. Understand what can and cannot be called inside functions "
   ]
  },
  {
   "cell_type": "code",
   "execution_count": null,
   "id": "6f33ea93",
   "metadata": {},
   "outputs": [],
   "source": [
    "#https://www.tutorialsteacher.com/python/magic-methods-in-python\n",
    "#https://towardsdatascience.com/whats-the-meaning-of-single-and-double-underscores-in-python-3d27d57d6bd1\n",
    "#https://mathspp.com/blog/pydonts/dunder-methods\n",
    "\n",
    "\"\"\"\n",
    "Add comments for you own reference\n",
    "\"\"\"\n",
    "\n",
    "class Car:\n",
    "    def __init__(self, year, model, color):\n",
    "        self.year = year\n",
    "        self.model = model\n",
    "        self.color = color\n",
    "    def __str__(self):\n",
    "        return f\"A {self.year}-{self.model} in {self.color}\"\n",
    "        \n",
    "#__name__ = \"bob\"\n",
    "if __name__ == \"__main__\":\n",
    "    this_car = Car(2002,\"BMW\",\"black\")\n",
    "    print(dir(this_car))\n",
    "    print(this_car)"
   ]
  },
  {
   "cell_type": "markdown",
   "id": "8ccd5ba6",
   "metadata": {},
   "source": [
    "**Evaluation:**\n",
    "\n",
    "After running this program, think about and answer these questions:\n",
    "\n",
    "1. What other dunder methods exist?\n",
    "2. What is the use for dunder methods?"
   ]
  },
  {
   "cell_type": "markdown",
   "id": "50b30740",
   "metadata": {},
   "source": [
    "# 4.4 DUNDER METHODS (Group)\n",
    "\n",
    "**Write a program that will do the following:**\n",
    "\n",
    "1. Create a class Library which has the following attributes:\n",
    "    - Name\n",
    "    - Number of Books\n",
    "    - List of Books and their details\n",
    "3. Store all books in a data structure.\n",
    "4. Each book should contain the following information:\n",
    "    - Title\n",
    "    - ISBN\n",
    "5. All book information needs to be private.\n",
    "6. Write a print function to display all books in the library.\n",
    "8. Write a funtion to add books to the library: addBook() "
   ]
  },
  {
   "cell_type": "code",
   "execution_count": null,
   "id": "ed6d9f84",
   "metadata": {},
   "outputs": [],
   "source": [
    "\"\"\"\n",
    "Add comments for you own reference\n",
    "\"\"\"\n",
    "\n",
    "class Library:\n",
    "    def __init__(self,name):\n",
    "        self.name = name\n",
    "        self.count = 0\n",
    "        self.__books = {}\n",
    "        self.__id = 0\n",
    "        \n",
    "    def __str__(self):\n",
    "        op = \"Library Name: \" + self.name + \"\\n\"\n",
    "        op += \"Number of Books: \" + str(self.count)\n",
    "        for i in self.__books:\n",
    "            op += \"\\nID:\"+str(i)\n",
    "            op +=\"\\nName: \"+ self.__books[i]['Name']\n",
    "            op += \"\\nGenre: \"+ self.__books[i]['Genre']\n",
    "            op += '\\n'\n",
    "        return op\n",
    "    \n",
    "    def addBook(self,name,genre):\n",
    "        self.__books[self.__id] = {'Name':name,'Genre':genre}\n",
    "        self.__id += 1"
   ]
  },
  {
   "cell_type": "code",
   "execution_count": null,
   "id": "0199c945",
   "metadata": {},
   "outputs": [],
   "source": [
    "NewLib = Library('NewLibrary')\n",
    "NewLib.addBook('ABC','SCIENCE')\n",
    "NewLib.addBook('XYZ','MATH')\n",
    "print(NewLib)"
   ]
  },
  {
   "cell_type": "markdown",
   "id": "fc469214",
   "metadata": {
    "id": "b9f5681d"
   },
   "source": [
    "## 4.5 INHERITANCE (Follow):  \n",
    "\n",
    "**Learning Objectives:**\n",
    "\n",
    "1. Understand how inheritance works\n",
    "2. Understand how to declare inheritance\n",
    "3. Understand what is inherited by a class"
   ]
  },
  {
   "cell_type": "code",
   "execution_count": null,
   "id": "0eb6d562",
   "metadata": {
    "id": "a386b86c"
   },
   "outputs": [],
   "source": [
    "\"\"\"\n",
    "Add comments for you own reference\n",
    "\"\"\"\n",
    "\n",
    "class Automobile:\n",
    "    \n",
    "    def __init__(self, make, model, mileage, price):\n",
    "        self.__make = make\n",
    "        self.__model = model\n",
    "        self.__mileage = mileage\n",
    "        self.__price = price\n",
    "\n",
    "    \n",
    "    def set_make(self, make):\n",
    "        self.__make = make\n",
    "\n",
    "    def set_model(self, model):\n",
    "        self.__model = model\n",
    "\n",
    "    def set_mileage(self, mileage):\n",
    "        self.__mileage = mileage\n",
    "\n",
    "    def set_price(self, price):\n",
    "        self.__price = price\n",
    "\n",
    "    \n",
    "    def get_make(self):\n",
    "        return self.__make\n",
    "\n",
    "    def get_model(self):\n",
    "        return self.__model\n",
    "\n",
    "    def get_mileage(self):\n",
    "        return self.__mileage\n",
    "\n",
    "    def get_price(self):\n",
    "        return self.__price\n"
   ]
  },
  {
   "cell_type": "code",
   "execution_count": null,
   "id": "d0fda477",
   "metadata": {
    "id": "7q6wI8HygYO8"
   },
   "outputs": [],
   "source": [
    "\"\"\"\n",
    "Add comments for you own reference\n",
    "\"\"\"\n",
    "\n",
    "class Car(Automobile):\n",
    "    \n",
    "    def __init__(self, make, model, mileage, price, doors):\n",
    "\n",
    "        Automobile.__init__(self, make, model, mileage, price)\n",
    "        self.__doors = doors\n",
    "\n",
    "    \n",
    "    def set_doors(self, doors):\n",
    "        self.__doors = doors\n",
    "\n",
    "    def get_doors(self):\n",
    "        return self.__doors\n",
    "    \n"
   ]
  },
  {
   "cell_type": "code",
   "execution_count": null,
   "id": "918e0b42",
   "metadata": {
    "id": "uCYc3kZ3giy7"
   },
   "outputs": [],
   "source": [
    "\"\"\"\n",
    "Add comments for you own reference\n",
    "\"\"\"\n",
    "\n",
    "class Truck(Automobile):\n",
    "    \n",
    "    def __init__(self, make, model, mileage, price, drive_type):\n",
    "        Automobile.__init__(self, make, model, mileage, price)\n",
    "        \n",
    "        self.__drive_type = drive_type\n",
    "\n",
    "    \n",
    "    def set_drive_type(self, drive_type):\n",
    "        self.__drive_type = drive_type\n",
    "\n",
    "    def get_drive_type(self):\n",
    "        return self.__drive_type\n"
   ]
  },
  {
   "cell_type": "code",
   "execution_count": null,
   "id": "8082f33e",
   "metadata": {
    "id": "XePI46Evgqbv"
   },
   "outputs": [],
   "source": [
    "\"\"\"\n",
    "Add comments for you own reference\n",
    "\"\"\"\n",
    "\n",
    "class SUV(Automobile):\n",
    "    \n",
    "    def __init__(self, make, model, mileage, price, pass_cap):\n",
    "        Automobile.__init__(self, make, model, mileage, price)\n",
    "        \n",
    "        self.__pass_cap = pass_cap\n",
    "\n",
    "    \n",
    "    def set_pass_cap(self, pass_cap):\n",
    "        self.__pass_cap = pass_cap\n",
    "\n",
    "    def get_pass_cap(self):\n",
    "        return self.__pass_cap"
   ]
  },
  {
   "cell_type": "code",
   "execution_count": null,
   "id": "edf2bca1",
   "metadata": {
    "id": "2cc062ca"
   },
   "outputs": [],
   "source": [
    "\"\"\"\n",
    "Add comments for you own reference\n",
    "\"\"\"\n",
    "\n",
    "used_car = Car('Audi', 2007, 12500, 21500.00, 4)\n",
    "\n",
    "print('Make:', used_car.get_make())\n",
    "print('Model:', used_car.get_model())\n",
    "print('Mileage:', used_car.get_mileage())\n",
    "print('Price:', used_car.get_price())\n",
    "print('Number of doors:', used_car.get_doors())\n"
   ]
  },
  {
   "cell_type": "markdown",
   "id": "896760e1",
   "metadata": {
    "id": "dQaOC50_hhvk"
   },
   "source": [
    "### As the above code executes, think about the following questions:\n",
    "\n",
    "1. Create objects for the truck and SUV classes for the above code.\n",
    "2. Print the information for each created object.\n",
    "3. What does putting Automobile in parenthesis do? "
   ]
  },
  {
   "cell_type": "markdown",
   "id": "6e3f529a",
   "metadata": {
    "id": "ff0066ba"
   },
   "source": [
    "# 4.5 Inheritance (Group):  \n",
    "\n",
    "**Write a program that will do the following:**\n",
    "\n",
    "1. Create a savings account base class.\n",
    "2. Create a class CD which inherits class savings.\n",
    "3. The savings class should contain account number, interest rate, and balance.\n",
    "4. CD class should contain maturity date along with all inherited attributes.\n",
    "5. Both classes should have functions to access and change all attributes.\n",
    "6. Write some code to access and change the attributes."
   ]
  },
  {
   "cell_type": "code",
   "execution_count": null,
   "id": "bfd25b84",
   "metadata": {
    "executionInfo": {
     "elapsed": 4,
     "status": "ok",
     "timestamp": 1643218896122,
     "user": {
      "displayName": "Travis Martin",
      "photoUrl": "https://lh3.googleusercontent.com/a/default-user=s64",
      "userId": "17005528951968776844"
     },
     "user_tz": 360
    },
    "id": "ab1742b9"
   },
   "outputs": [],
   "source": [
    "\"\"\"\n",
    "Add comments for you own reference\n",
    "\"\"\"\n",
    "\n",
    "# Class Savings Account\n",
    "\n",
    "class SavingsAccount:\n",
    "    \n",
    "    # The __init__ method accepts arguments for the\n",
    "    # account number, interest rate, and balance.\n",
    "    \n",
    "    def __init__(self, account_num, int_rate, bal):\n",
    "        self.__account_num = account_num\n",
    "        self.__interest_rate = int_rate\n",
    "        self.__balance = bal\n",
    "\n",
    "    # The following methods are mutators for the\n",
    "    # data attributes.\n",
    "\n",
    "    def set_account_num(self, account_num):\n",
    "        self.__account_num = account_num\n",
    "\n",
    "    def set_interest_rate(self, int_rate):\n",
    "        self.__interest_rate = int_rate\n",
    "\n",
    "    def set_balance(self, bal):\n",
    "        self.__balance = bal\n",
    "\n",
    "    # The following methods are accessors for the\n",
    "    # data attributes.\n",
    "\n",
    "    def get_account_num(self):\n",
    "        return self.__account_num\n",
    "\n",
    "    def get_interest_rate(self):\n",
    "        return self.__interest_rate\n",
    "\n",
    "    def get_balance(self):\n",
    "        return self.__balance\n",
    "\n",
    "\n"
   ]
  },
  {
   "cell_type": "code",
   "execution_count": null,
   "id": "29654b20",
   "metadata": {
    "executionInfo": {
     "elapsed": 406,
     "status": "ok",
     "timestamp": 1643218901215,
     "user": {
      "displayName": "Travis Martin",
      "photoUrl": "https://lh3.googleusercontent.com/a/default-user=s64",
      "userId": "17005528951968776844"
     },
     "user_tz": 360
    },
    "id": "bWN9I3ndeLh7"
   },
   "outputs": [],
   "source": [
    "\"\"\"\n",
    "Add comments for you own reference\n",
    "\"\"\"\n",
    "\n",
    "# The CD account represents a certificate of\n",
    "# deposit (CD) account. It is a subclass of\n",
    "# the SavingsAccount class.\n",
    "\n",
    "\n",
    "class CD(SavingsAccount):\n",
    "\n",
    "    # The init method accepts arguments for the\n",
    "    # account number, interest rate, balance, and\n",
    "    # maturity date.\n",
    "    \n",
    "    def __init__(self, account_num, int_rate, bal, mat_date):\n",
    "        # Call the superclass __init__ method.\n",
    "        SavingsAccount.__init__(self, account_num, int_rate, bal)\n",
    "\n",
    "        # Initialize the __maturity_date attribute.\n",
    "        self.__maturity_date = mat_date\n",
    "\n",
    "    # The set_maturity_date is a mutator for the\n",
    "    # __maturity_date attribute.\n",
    "\n",
    "    def set_maturity_date(self, mat_date):\n",
    "        self.__maturity_date = mat_date\n",
    "\n",
    "    # The get_maturity_date method is an accessor\n",
    "    # for the __maturity_date attribute.\n",
    "\n",
    "    def get_maturity_date(self):\n",
    "        return self.__maturity_date"
   ]
  },
  {
   "cell_type": "code",
   "execution_count": null,
   "id": "9b9b9da4",
   "metadata": {
    "colab": {
     "base_uri": "https://localhost:8080/"
    },
    "executionInfo": {
     "elapsed": 41205,
     "status": "ok",
     "timestamp": 1643218945139,
     "user": {
      "displayName": "Travis Martin",
      "photoUrl": "https://lh3.googleusercontent.com/a/default-user=s64",
      "userId": "17005528951968776844"
     },
     "user_tz": 360
    },
    "id": "3779d26c",
    "outputId": "68e7a265-18f0-41cd-ce13-f22a48bfa8c4"
   },
   "outputs": [],
   "source": [
    "\"\"\"\n",
    "Add comments for you own reference\n",
    "\"\"\"\n",
    "\n",
    "# Get the account number, interest rate,\n",
    "# and account balance for a savings account.\n",
    "print('Enter the following data for a savings account.')\n",
    "acct_num = input('Account number: ')\n",
    "int_rate = float(input('Interest rate: '))\n",
    "balance = float(input('Balance: '))\n",
    "\n",
    "# Create a SavingsAccount object.\n",
    "savings = SavingsAccount(acct_num, int_rate, \\\n",
    "                                  balance)\n",
    "\n",
    "# Get the account number, interest rate,\n",
    "# account balance, and maturity date for a CD.\n",
    "print('Enter the following data for a CD.')\n",
    "acct_num = input('Account number: ')\n",
    "int_rate = float(input('Interest rate: '))\n",
    "balance = float(input('Balance: '))\n",
    "maturity = input('Maturity date: ')\n",
    "\n",
    "# Create a CD object.\n",
    "cd = CD(acct_num, int_rate, balance, maturity)\n",
    "\n",
    "# Display the data entered.\n",
    "print('Here is the data you entered:')\n",
    "print()\n",
    "print('Savings Account')\n",
    "print('---------------')\n",
    "print('Account number:', savings.get_account_num())\n",
    "print('Interest rate:', savings.get_interest_rate())\n",
    "print('Balance: $', \\\n",
    "      format(savings.get_balance(), ',.2f'), \\\n",
    "      sep='')\n",
    "print()\n",
    "print('CD')\n",
    "print('---------------')\n",
    "print('Account number:', cd.get_account_num())\n",
    "print('Interest rate:', cd.get_interest_rate())\n",
    "print('Balance: $', \\\n",
    "      format(cd.get_balance(), ',.2f'), \\\n",
    "      sep='')        \n",
    "print('Maturity date:', cd.get_maturity_date())\n"
   ]
  },
  {
   "cell_type": "markdown",
   "id": "71a1fabb",
   "metadata": {
    "id": "Lv4WoegwSfcq"
   },
   "source": [
    "## Week 4 MINI PROJECT\n",
    "\n",
    "The project should be created to be useful in your life.  Here are some guidelines for the project.\n",
    "\n",
    "1. Create a class employee.\n",
    "2. Class employee should contain 2 to 3 attributes.\n",
    "3. Create 1-2 other classes that inherit employee class.\n",
    "4. Each of the sub classes should have 2-3 attributes.\n",
    "5. Make sure to write functions that can both change and print attributes."
   ]
  },
  {
   "cell_type": "code",
   "execution_count": null,
   "id": "5b4bae5b",
   "metadata": {
    "executionInfo": {
     "elapsed": 155,
     "status": "ok",
     "timestamp": 1643222178342,
     "user": {
      "displayName": "Travis Martin",
      "photoUrl": "https://lh3.googleusercontent.com/a/default-user=s64",
      "userId": "17005528951968776844"
     },
     "user_tz": 360
    },
    "id": "4evC8OBxTUsd"
   },
   "outputs": [],
   "source": [
    "\"\"\"\n",
    "Add comments for you own reference\n",
    "\"\"\"\n",
    "\n",
    "class Employee:\n",
    "    def __init__(self, name, id_number):\n",
    "        self.__name = name\n",
    "        self.__id_number = id_number\n",
    "\n",
    "    def set_name(self, name):\n",
    "        self.__name = name\n",
    "\n",
    "    def set_id_number(self, id_number):\n",
    "        self.__id_number = id_number\n",
    "\n",
    "    def get_name(self):\n",
    "        return self.__name\n",
    "        \n",
    "    def get_id_number(self):\n",
    "        return self.__id_number\n",
    "        "
   ]
  },
  {
   "cell_type": "code",
   "execution_count": null,
   "id": "7de08046",
   "metadata": {
    "executionInfo": {
     "elapsed": 164,
     "status": "ok",
     "timestamp": 1643222303421,
     "user": {
      "displayName": "Travis Martin",
      "photoUrl": "https://lh3.googleusercontent.com/a/default-user=s64",
      "userId": "17005528951968776844"
     },
     "user_tz": 360
    },
    "id": "OY70eOxeqjyv"
   },
   "outputs": [],
   "source": [
    "\"\"\"\n",
    "Add comments for you own reference\n",
    "\"\"\"\n",
    "\n",
    "class ProductionWorker(Employee):\n",
    "    def __init__(self, name, id_number, shift_number, pay_rate):\n",
    "        # Call superclass __init__ method.\n",
    "        Employee.__init__(self, name, id_number)\n",
    "\n",
    "        # Initialize the shift_number and pay_rate attributes.\n",
    "        self.__shift_number = shift_number\n",
    "        self.__pay_rate = pay_rate\n",
    "\n",
    "    # Mutator functions for shift_number and pay_rate.\n",
    "    def set_shift_number(self, shift_number):\n",
    "        self.__shift_number = shift_number\n",
    "\n",
    "    def set_pay_rate(self, pay_rate):\n",
    "        self.__pay_rate = pay_rate\n",
    "\n",
    "    # Accessor functions for shift_number and pay_rate.\n",
    "    def get_shift_number(self):\n",
    "        return self.__shift_number\n",
    "\n",
    "    def get_pay_rate(self):\n",
    "        return self.__pay_rate"
   ]
  },
  {
   "cell_type": "code",
   "execution_count": null,
   "id": "a7932885",
   "metadata": {
    "colab": {
     "base_uri": "https://localhost:8080/"
    },
    "executionInfo": {
     "elapsed": 6633,
     "status": "ok",
     "timestamp": 1643222312321,
     "user": {
      "displayName": "Travis Martin",
      "photoUrl": "https://lh3.googleusercontent.com/a/default-user=s64",
      "userId": "17005528951968776844"
     },
     "user_tz": 360
    },
    "id": "sMUtesyxqnCX",
    "outputId": "1d9d149f-fb69-47af-d962-535336147288"
   },
   "outputs": [],
   "source": [
    "\"\"\"\n",
    "Add comments for you own reference\n",
    "\"\"\"\n",
    "\n",
    "def main():\n",
    "    # Local variables\n",
    "    worker_name= ''\n",
    "    worker_id = ''\n",
    "    worker_shift = 0\n",
    "    worker_pay = 0.0\n",
    "    \n",
    "    # Get data attributes\n",
    "    worker_name = input('Enter the name: ')\n",
    "    worker_id = input('Enter the ID number: ')\n",
    "    worker_shift = int(input('Enter the shift number: '))\n",
    "    worker_pay = float(input('Enter the hourly pay rate: '))\n",
    "\n",
    "    # Create an instance of ProductionWorker\n",
    "    worker = ProductionWorker(worker_name, worker_id,\n",
    "                                  worker_shift, worker_pay)\n",
    "\n",
    "    # Display information\n",
    "    print ('Production worker information:')\n",
    "    print (f'Name: {worker.get_name()}')\n",
    "    print (f'ID number: {worker.get_id_number()}')\n",
    "    print (f'Shift: {worker.get_shift_number()}')\n",
    "    print (f'Hourly Pay Rate: ${worker.get_pay_rate():,.2f}')\n",
    "\n",
    "# Call the main function.\n",
    "if __name__ == '__main__':\n",
    "    main()"
   ]
  }
 ],
 "metadata": {
  "colab": {
   "collapsed_sections": [],
   "name": "WSK Week 4 Solutions.ipynb",
   "provenance": []
  },
  "kernelspec": {
   "display_name": "Python 3 (ipykernel)",
   "language": "python",
   "name": "python3"
  },
  "language_info": {
   "codemirror_mode": {
    "name": "ipython",
    "version": 3
   },
   "file_extension": ".py",
   "mimetype": "text/x-python",
   "name": "python",
   "nbconvert_exporter": "python",
   "pygments_lexer": "ipython3",
   "version": "3.12.4"
  }
 },
 "nbformat": 4,
 "nbformat_minor": 5
}
