{
 "cells": [
  {
   "cell_type": "markdown",
   "id": "226e44d1",
   "metadata": {},
   "source": [
    "# Workshop 1 [Student]\n",
    "\n",
    "This notebook will cover the following topics:\n",
    "\n",
    "- Variables\n",
    "- Input / Output\n",
    "- Expressions\n",
    "- Functions\n",
    "- Conditional Control\n",
    "- Looping\n",
    "- Data Types\n",
    "    - Lists\n",
    "    - Tuples\n",
    "    - Dictionary\n",
    "\n"
   ]
  },
  {
   "cell_type": "markdown",
   "id": "f4b975ba",
   "metadata": {},
   "source": [
    "## 1. VARIABLES (Follow)\n",
    "**Learning Objectives:**\n",
    "1. Learn about variables and variable assignment.\n",
    "2. Learn Naming conventions"
   ]
  },
  {
   "cell_type": "code",
   "execution_count": null,
   "id": "3280d19f",
   "metadata": {},
   "outputs": [],
   "source": [
    "\"\"\"\n",
    "Add comments for your own reference\n",
    "\"\"\"\n",
    "\n",
    "full_name = \"Laila Ali\"\n",
    "StreetName = \"Butterfly Street\"\n",
    "\n",
    "XÆA12 = \"son\"\n",
    "#1st_name = \"Laila\"\n",
    "#first name = \"Laila\"\n",
    "\n",
    "# Check out the errors in code and analyse the reason why"
   ]
  },
  {
   "cell_type": "markdown",
   "id": "f205884c",
   "metadata": {},
   "source": [
    "### After running the above code, answer the following questions:\n",
    "1. Which names were valid above and which were not?\n",
    "   The valid names were full_name and StreetName. The aforementioned names that were not valid are XAEA12, 1st_name, and first name.\n",
    "2. Why were some names valid and some not?\n",
    "   Some of the names such as XAEA12, 1st_name, and first name were not valid because the variables were not lablled properly. Examples of proper ways to label variables in Python include using camel case or using an underscore in between words."
   ]
  },
  {
   "cell_type": "markdown",
   "id": "4464eace",
   "metadata": {},
   "source": [
    "## 2. INPUT, OUTPUT AND FORMATTING: (Follow) \n",
    "\n",
    "**Learning Objectives:**\n",
    "1. Perform basic input and output for a user\n",
    "2. Format input and output\n",
    "3. Perform basic math on input and output\n",
    "4. Understand different datatypes "
   ]
  },
  {
   "cell_type": "code",
   "execution_count": 4,
   "id": "b2f2894e",
   "metadata": {},
   "outputs": [
    {
     "name": "stdout",
     "output_type": "stream",
     "text": [
      "This is a print statement\n",
      "Printing some different things including num8er5\n"
     ]
    },
    {
     "name": "stdin",
     "output_type": "stream",
     "text": [
      "Enter a short string here:  hi\n"
     ]
    },
    {
     "name": "stdout",
     "output_type": "stream",
     "text": [
      "Your input string is:  hi\n",
      "This will print a float number with 2 decimal places:  2.68\n",
      "This will print a float number in a formatted string literal 2.676\n",
      "This will multiply 5 times 10 and display the result:  50\n"
     ]
    }
   ],
   "source": [
    "\"\"\"\n",
    "Add comments for your own reference\n",
    "\"\"\"\n",
    "\n",
    "print(\"This is a print statement\")\n",
    "print(\"Printing some different things including num8er5\")\n",
    "\n",
    "input_string = input(\"Enter a short string here: \")\n",
    "\n",
    "print(\"Your input string is: \", input_string)\n",
    "\n",
    "float_number = 2.676\n",
    "print(\"This will print a float number with 2 decimal places: \", format(float_number, '.2f'))\n",
    "\n",
    "print(f\"This will print a float number in a formatted string literal {float_number}\")\n",
    "\n",
    "num1 = 5\n",
    "num2 = 10\n",
    "print(f\"This will multiply {num1} times {num2} and display the result: \", num1 * num2)"
   ]
  },
  {
   "cell_type": "markdown",
   "id": "e3d70862",
   "metadata": {},
   "source": [
    "## 3. EXPRESSIONS (Follow)\n",
    "**Learning Objectives:**\n",
    "1. Understand operators\n",
    "2. Understand simple and complex expressions"
   ]
  },
  {
   "cell_type": "markdown",
   "id": "1b47deed",
   "metadata": {},
   "source": [
    "### After running the above code, answer the following questions:\n",
    "1. What do the {} do in line 15?\n",
    "  The curly brackets {} in line 15 allow the float number to print in a string literal.\n",
    " \n",
    "3. What does the .2f do in line 13?\n",
    "  The .2f formats the float number to 2 decimal places.\n",
    "\n",
    "\n",
    "5. What does the 'f' do at the beginning of line 15 and 19?\n",
    "   The 'f' allows us to format the expression while including a string literal."
   ]
  },
  {
   "cell_type": "code",
   "execution_count": 6,
   "id": "87809d92",
   "metadata": {},
   "outputs": [
    {
     "name": "stdout",
     "output_type": "stream",
     "text": [
      "Value x = 2 and y = 3\n",
      "Value a = 4 and b = 4\n",
      "Value c = 8\n",
      "Value z = 2\n",
      "Value z = 3\n",
      "Value z = -1.25\n"
     ]
    }
   ],
   "source": [
    "\"\"\"\n",
    "Add comments for your own reference\n",
    "\"\"\"\n",
    "\n",
    "x = 2\n",
    "y = 3\n",
    "print(f\"Value x = {x} and y = {y}\")\n",
    "\n",
    "a = b = 4\n",
    "print(f\"Value a = {a} and b = {b}\")\n",
    "\n",
    "c = a + b\n",
    "print(f\"Value c = {c}\")\n",
    "\n",
    "z = c % y\n",
    "print(f\"Value z = {z}\")\n",
    "\n",
    "z += 1\n",
    "print(f\"Value z = {z}\")\n",
    "\n",
    "z = (x+y) * (x-y) / (2*x)\n",
    "print(f\"Value z = {z}\")"
   ]
  },
  {
   "cell_type": "markdown",
   "id": "034c85c9",
   "metadata": {},
   "source": [
    "### After running the above code, answer the following questions:\n",
    "1. What does the % operator do?\n",
    "   The % operator is called the modulo operator and it returns the remainder of c divided by y. \n",
    "3. What does the += operator do?\n",
    "   The += operator adds a designated number to z when z is defined."
   ]
  },
  {
   "cell_type": "markdown",
   "id": "ccf8a483",
   "metadata": {},
   "source": [
    "# Group Activity 1:  \n",
    "\n",
    "1. Create a small program that will take a celsius temperature from the user and convert it to fahrenheit\n",
    "2. Print the output result to 3 decimal places\n",
    "3. Print a degree sign after the output\n",
    "4. Try to figure out how to create the program in the fewest lines possible \n",
    "\n",
    "Fahrenheit = (9/5)(Degrees Celsius) + 32"
   ]
  },
  {
   "cell_type": "code",
   "execution_count": 58,
   "id": "b7612daa",
   "metadata": {},
   "outputs": [
    {
     "name": "stdin",
     "output_type": "stream",
     "text": [
      "What is the temperature outside? 25\n"
     ]
    },
    {
     "name": "stdout",
     "output_type": "stream",
     "text": [
      "It is 77.0 degrees Fahrenheit outside.\n"
     ]
    }
   ],
   "source": [
    "def fahrenheit():\n",
    "    celsius = float(input(\"What is the temperature outside?\"))\n",
    "    fahrenheit = (9/5 * celsius + 32)\n",
    "    print(f\"It is {fahrenheit} degrees Fahrenheit outside.\")\n",
    "fahrenheit()\n",
    "    \n",
    "    \n",
    "\n",
    "    \n",
    "    \n",
    "    \n",
    "    "
   ]
  },
  {
   "cell_type": "markdown",
   "id": "151392af",
   "metadata": {},
   "source": [
    "## 4. FUNCTIONS (Follow)\n",
    "**Learning Objectives:**\n",
    "1. Understand functions and how to create functions\n",
    "2. Understand function calls\n",
    "3. Understand parameters and return values"
   ]
  },
  {
   "cell_type": "code",
   "execution_count": 8,
   "id": "c78c1d15",
   "metadata": {},
   "outputs": [
    {
     "name": "stdout",
     "output_type": "stream",
     "text": [
      "My sum is 50\n",
      "My sum + 10 is 60\n"
     ]
    }
   ],
   "source": [
    "\"\"\"\n",
    "Add comments for your own reference\n",
    "\"\"\"\n",
    "\n",
    "def my_summer(param1, param2 = 0):\n",
    "    '''\n",
    "    Sum two values.\n",
    "    Inputs: \n",
    "        param1 - int or float\n",
    "        param2 - int or float, optional\n",
    "    Returns:\n",
    "        sum - int or float\n",
    "    '''\n",
    "    return param1 + param2\n",
    "\n",
    "\n",
    "my_sum = my_summer(20,30)\n",
    "print(f\"My sum is {my_sum}\")\n",
    "      \n",
    "my_new_sum = my_summer(my_sum,10)\n",
    "print(f\"My sum + 10 is {my_new_sum}\")      \n"
   ]
  },
  {
   "cell_type": "markdown",
   "id": "dbbef4dc",
   "metadata": {},
   "source": [
    "### After running the above code, answer the following questions:\n",
    "1. What does param2 = 0 do on line 5? It allows the user to know that int or float numbers are optional.\n",
    "2. What does the my summer function do? The my summer function adds the first two parameters together."
   ]
  },
  {
   "cell_type": "markdown",
   "id": "a18e1a25",
   "metadata": {},
   "source": [
    "## 5. CONDITIONAL CONTROL (Follow)\n",
    "**Learning Objectives:**\n",
    "1. Understand conditional statements\n",
    "2. Learn IF/ELSE control statements\n",
    "3. Learn nested IF statements\n",
    "4. Understand boolean logic and logical operators"
   ]
  },
  {
   "cell_type": "code",
   "execution_count": null,
   "id": "f610d620",
   "metadata": {},
   "outputs": [],
   "source": [
    "\"\"\"\n",
    "Add comments for your own reference\n",
    "\"\"\"\n",
    "\n",
    "day = int(input('Enter a number (1-7) for the day of the week: '))\n",
    "\n",
    "if day == 1:\n",
    "    print('Monday')\n",
    "elif day == 2:\n",
    "    print('Tuesday')\n",
    "elif day == 3:\n",
    "    print('Wednesday')\n",
    "elif day == 4:\n",
    "    print ('Thursday')\n",
    "elif day == 5:\n",
    "    print ('Friday')\n",
    "elif day == 6:\n",
    "    print ('Saturday')\n",
    "elif day == 7:\n",
    "    print ('Sunday')\n",
    "else:\n",
    "    print ('Error: Please enter a number in the range 1-7.')"
   ]
  },
  {
   "cell_type": "code",
   "execution_count": 10,
   "id": "6e7e4a04",
   "metadata": {},
   "outputs": [
    {
     "name": "stdin",
     "output_type": "stream",
     "text": [
      "Enter a number (1-7) for the day of the week:  5\n",
      "Enter a number (1-24) for the hour of the day:  14\n"
     ]
    },
    {
     "name": "stdout",
     "output_type": "stream",
     "text": [
      "Its the Weekend!\n",
      "Enjoy the Weekend\n"
     ]
    }
   ],
   "source": [
    "\"\"\"\n",
    "Add comments for your own reference\n",
    "\"\"\"\n",
    "\n",
    "day = int(input('Enter a number (1-7) for the day of the week: '))\n",
    "time = int(input('Enter a number (1-24) for the hour of the day: '))\n",
    "\n",
    "if day > 1 and day <5:\n",
    "    print('Its a Work Day!')\n",
    "    if time >= 8 and time <=18:\n",
    "        print(\"You should be working!\")\n",
    "    else:\n",
    "        print(\"You should rest after work\")\n",
    "elif day <= 7:\n",
    "    print(\"Its the Weekend!\")\n",
    "    if time <= 8 or time >=22:\n",
    "        print(\"You should be sleeping!\")\n",
    "    else:\n",
    "        print(\"Enjoy the Weekend\")\n",
    "else:\n",
    "    print ('Error: Please enter a number in the range 1-7.')"
   ]
  },
  {
   "cell_type": "markdown",
   "id": "f7e45f78",
   "metadata": {},
   "source": [
    "**Evaluation:**\n",
    "\n",
    "After running both programs, think about and answer these questions:\n",
    "\n",
    "1. What is the program doing? The program is telling the user what day of the week it is and what the person should be doing during the day and time specified by using the numbers 1 through 7. \n",
    "2. Does every line in the code execute, explain? No, not every line in the code will execute. The lines that are executed will depend on the input from the user. \n",
    "3. Could you find a way to break it? Yes, you can break the code if you insert a number that is not 1 through 7 for the day of the week or 1 through 24 for the hour of the day. "
   ]
  },
  {
   "cell_type": "markdown",
   "id": "632dac01",
   "metadata": {},
   "source": [
    "# Group Activity 2:  \n",
    "\n",
    "Develop a program that will do the following:\n",
    "\n",
    "1. Take input from the user for length and width for two different sets of numbers. Four total inputs.\n",
    "2. Multiply the length and width together and find the area for the two different sets of numbers.\n",
    "3. Compare the areas and print which one is larger.\n",
    "4. Display the difference in areas\n",
    "5. Be sure to handle non-numeric inputs and negative inputs.  \n",
    "\n",
    "area = length * width"
   ]
  },
  {
   "cell_type": "code",
   "execution_count": 78,
   "id": "c9aac09c",
   "metadata": {},
   "outputs": [
    {
     "name": "stdin",
     "output_type": "stream",
     "text": [
      "Enter a number for the length of a rectangle. 5\n",
      "Enter a number for the width of a rectangle. 2\n"
     ]
    },
    {
     "name": "stdout",
     "output_type": "stream",
     "text": [
      "The rectangle area is 10\n"
     ]
    },
    {
     "name": "stdin",
     "output_type": "stream",
     "text": [
      "Enter a number for the length of the second rectangle. 4\n",
      "Enter a number for the width of the second rectangle. 5\n"
     ]
    },
    {
     "name": "stdout",
     "output_type": "stream",
     "text": [
      "The second rectangle area is 20\n",
      "20, second_area is bigger.\n",
      "The difference is 10\n"
     ]
    }
   ],
   "source": [
    "def area(length, width):\n",
    "    return length * width \n",
    "    \n",
    "length = int(input('Enter a number for the length of a rectangle.'))\n",
    "width = int(input('Enter a number for the width of a rectangle.'))\n",
    "rectangle_area = length * width\n",
    "print('The rectangle area is', f'{rectangle_area}')\n",
    "\n",
    "second_length = int(input('Enter a number for the length of the second rectangle.'))\n",
    "second_width = int(input('Enter a number for the width of the second rectangle.'))\n",
    "second_area = second_length * second_width\n",
    "print('The second rectangle area is', f'{second_area}')\n",
    "\n",
    "if rectangle_area > second_area:\n",
    "    print(f'{rectangle_area}, rectangle_area is bigger.')\n",
    "\n",
    "elif rectangle_area == second_area:\n",
    "    print('Both areas are equal.')\n",
    "   \n",
    "else:\n",
    "    print(f'{second_area}, second_area is bigger.')\n",
    "\n",
    "difference = (rectangle_area - second_area)\n",
    "second_difference = (second_area - rectangle_area)\n",
    "\n",
    "if difference < 0:\n",
    "   print((f\"The difference is {second_difference}\"))\n",
    "else: \n",
    "    print(f'The difference is, {difference}.')\n",
    "\n",
    "\n"
   ]
  },
  {
   "cell_type": "markdown",
   "id": "9383cb1e",
   "metadata": {},
   "source": [
    "## 6. LOOPING (Follow)\n",
    "**Learning Objectives:**\n",
    "1. Understanding repetitive structures\n",
    "2. Understanding while loops\n",
    "3. Understanding for loops\n",
    "4. Nested loops and order N run time"
   ]
  },
  {
   "cell_type": "markdown",
   "id": "2e0d37dd",
   "metadata": {},
   "source": [
    "### 6.1 While Loop"
   ]
  },
  {
   "cell_type": "code",
   "execution_count": 80,
   "id": "0d342ff6",
   "metadata": {},
   "outputs": [
    {
     "name": "stdin",
     "output_type": "stream",
     "text": [
      "Enter a positive number (negative to quit):  3\n",
      "Enter a positive number (negative to quit):  1\n",
      "Enter a positive number (negative to quit):  4\n",
      "Enter a positive number (negative to quit):  6\n",
      "Enter a positive number (negative to quit):  7\n",
      "Enter a positive number (negative to quit):  5\n",
      "Enter a positive number (negative to quit):  2\n",
      "Enter a positive number (negative to quit):  3\n",
      "Enter a positive number (negative to quit):  4\n",
      "Enter a positive number (negative to quit):  15\n",
      "Enter a positive number (negative to quit):  -1\n"
     ]
    },
    {
     "name": "stdout",
     "output_type": "stream",
     "text": [
      "Total = 50.00\n"
     ]
    }
   ],
   "source": [
    "\"\"\"\n",
    "Add comments for your own reference\n",
    "\"\"\"\n",
    "number = 1.0    \n",
    "total = 0.0\n",
    "\n",
    "while number > 0:\n",
    "    number = float(input('Enter a positive number (negative to quit): '))\n",
    "    if number > 0:\n",
    "        total = total + number\n",
    "\n",
    "print (f'Total = {total:.2f}') "
   ]
  },
  {
   "cell_type": "markdown",
   "id": "0927ef89",
   "metadata": {},
   "source": [
    "**Evaluation:**\n",
    "\n",
    "After running this program, think about and answer these questions:\n",
    "\n",
    "1. What is the program doing? The program adds all of the numbers together if they are bigger than zero. \n",
    "2. How many time does each line in the code execute, explain? Each line executes once for every positive number that is entered. \n",
    "3. Could you find a way to break it? Yes, you can break the code by entering a letter instead of a number.\n",
    "4. Try to rewrite the program using a for loop."
   ]
  },
  {
   "cell_type": "code",
   "execution_count": 84,
   "id": "70f9935a-bee3-420f-ac68-2ad78d0ad0d6",
   "metadata": {},
   "outputs": [
    {
     "name": "stdin",
     "output_type": "stream",
     "text": [
      "Enter a positive number (negative to quit):  4\n",
      "Enter a positive number (negative to quit):  2\n",
      "Enter a positive number (negative to quit):  0\n",
      "Enter a positive number (negative to quit):  -1\n"
     ]
    },
    {
     "name": "stdout",
     "output_type": "stream",
     "text": [
      "Total = 6.00\n"
     ]
    }
   ],
   "source": [
    "total = 0.0\n",
    "\n",
    "for number in range(100):  \n",
    "    number = float(input('Enter a positive number (negative to quit): '))\n",
    "    if number < 0:\n",
    "        break  \n",
    "    total += number  \n",
    "print(f'Total = {total:.2f}')\n",
    "\n"
   ]
  },
  {
   "cell_type": "markdown",
   "id": "3f378881-b693-4ce6-9297-b04db42f85db",
   "metadata": {},
   "source": [
    "**Evaluation:**\n",
    "\n",
    "After running this program, think about and answer these questions:\n",
    "\n",
    "1. What is the program doing? The program adds one to a number if it is zero or greater.\n",
    "2. How many time does each line in the code execute, explain? Each line executes once for every positive number that is entered. \n",
    "3. Could you find a way to break it? Yes, you can break the code by entering a letter instead of a number. \n",
    "4. Try to rewrite the program using a for loop."
   ]
  },
  {
   "cell_type": "markdown",
   "id": "92104b68",
   "metadata": {},
   "source": [
    "### 6.2 For Loop"
   ]
  },
  {
   "cell_type": "code",
   "execution_count": 82,
   "id": "12c15d15",
   "metadata": {},
   "outputs": [
    {
     "name": "stdout",
     "output_type": "stream",
     "text": [
      "Minutes\t\tCalories Burned\n",
      "-------------------------------\n",
      "10 \t\t 42.0\n",
      "15 \t\t 63.0\n",
      "20 \t\t 84.0\n",
      "25 \t\t 105.0\n"
     ]
    }
   ],
   "source": [
    "\"\"\"\n",
    "Add comments for your own reference\n",
    "\"\"\"\n",
    "caloriesPerMinute = 4.2\n",
    "\n",
    "print ('Minutes\\t\\tCalories Burned')\n",
    "print ('-------------------------------')\n",
    "\n",
    "for minutes in range(10, 30, 5): #10, 15, 20, 25 \n",
    "    caloriesBurned = caloriesPerMinute * minutes\n",
    "    print (minutes, \"\\t\\t\", caloriesBurned) "
   ]
  },
  {
   "cell_type": "markdown",
   "id": "8a2aeada",
   "metadata": {},
   "source": [
    "**Evaluation:**\n",
    "\n",
    "After running this program, think about and answer these questions:\n",
    "\n",
    "1. What is the program doing? The program calculates the amount of calories burned in a specified amount of limits from the range of 10 to 30 minutes. \n",
    "2. How many times does each line in the code execute, explain? Each line in the code executes once for four times because of the range of 10 to 30 minutes in the for loop.\n",
    "3. Could you find a way to break it? Yes, you can break the code by entering a letter instead of a number for caloriesPerMinute.\n",
    "4. Try to rewrite the program using a while loop."
   ]
  },
  {
   "cell_type": "code",
   "execution_count": 86,
   "id": "3528af3b-76d7-4aa3-8400-7e98702f6cbf",
   "metadata": {},
   "outputs": [
    {
     "name": "stdin",
     "output_type": "stream",
     "text": [
      "Enter the number of minutes you exercised:  5\n"
     ]
    },
    {
     "name": "stdout",
     "output_type": "stream",
     "text": [
      "Minutes\t\tCalories Burned\n",
      "-------------------------------\n",
      "5.0 \t\t 21.0\n",
      "6.0 \t\t 25.200000000000003\n",
      "7.0 \t\t 29.400000000000002\n",
      "8.0 \t\t 33.6\n",
      "9.0 \t\t 37.800000000000004\n",
      "10.0 \t\t 42.0\n",
      "11.0 \t\t 46.2\n",
      "12.0 \t\t 50.400000000000006\n",
      "13.0 \t\t 54.6\n",
      "14.0 \t\t 58.800000000000004\n",
      "15.0 \t\t 63.0\n",
      "16.0 \t\t 67.2\n",
      "17.0 \t\t 71.4\n",
      "18.0 \t\t 75.60000000000001\n",
      "19.0 \t\t 79.8\n",
      "20.0 \t\t 84.0\n",
      "21.0 \t\t 88.2\n",
      "22.0 \t\t 92.4\n",
      "23.0 \t\t 96.60000000000001\n",
      "24.0 \t\t 100.80000000000001\n",
      "25.0 \t\t 105.0\n",
      "26.0 \t\t 109.2\n",
      "27.0 \t\t 113.4\n",
      "28.0 \t\t 117.60000000000001\n",
      "29.0 \t\t 121.80000000000001\n",
      "30.0 \t\t 126.0\n",
      "31.0 \t\t 130.20000000000002\n",
      "32.0 \t\t 134.4\n",
      "33.0 \t\t 138.6\n",
      "34.0 \t\t 142.8\n",
      "35.0 \t\t 147.0\n",
      "36.0 \t\t 151.20000000000002\n",
      "37.0 \t\t 155.4\n",
      "38.0 \t\t 159.6\n",
      "39.0 \t\t 163.8\n",
      "40.0 \t\t 168.0\n",
      "41.0 \t\t 172.20000000000002\n",
      "42.0 \t\t 176.4\n",
      "43.0 \t\t 180.6\n",
      "44.0 \t\t 184.8\n",
      "45.0 \t\t 189.0\n",
      "46.0 \t\t 193.20000000000002\n",
      "47.0 \t\t 197.4\n",
      "48.0 \t\t 201.60000000000002\n",
      "49.0 \t\t 205.8\n",
      "50.0 \t\t 210.0\n",
      "51.0 \t\t 214.20000000000002\n",
      "52.0 \t\t 218.4\n",
      "53.0 \t\t 222.60000000000002\n",
      "54.0 \t\t 226.8\n",
      "55.0 \t\t 231.0\n",
      "56.0 \t\t 235.20000000000002\n",
      "57.0 \t\t 239.4\n",
      "58.0 \t\t 243.60000000000002\n",
      "59.0 \t\t 247.8\n",
      "60.0 \t\t 252.0\n"
     ]
    }
   ],
   "source": [
    "caloriesPerMinute = 4.2\n",
    "minutes = float(input(\"Enter the number of minutes you exercised: \"))\n",
    "print('Minutes\\t\\tCalories Burned')\n",
    "print('-------------------------------')\n",
    "\n",
    "while minutes > 0:\n",
    "    caloriesBurned = caloriesPerMinute * minutes\n",
    "    if minutes > 0:\n",
    "        print(minutes, \"\\t\\t\", caloriesBurned)\n",
    "        minutes += 1  \n",
    "    if minutes > 60:\n",
    "        break"
   ]
  },
  {
   "cell_type": "markdown",
   "id": "fbfe6f2f",
   "metadata": {},
   "source": [
    "### 6.3 Nested Loop"
   ]
  },
  {
   "cell_type": "code",
   "execution_count": 90,
   "id": "31eb0961",
   "metadata": {},
   "outputs": [
    {
     "name": "stdin",
     "output_type": "stream",
     "text": [
      "Enter the number of years:  1\n"
     ]
    },
    {
     "name": "stdout",
     "output_type": "stream",
     "text": [
      "\n",
      "For year 1:\n"
     ]
    },
    {
     "name": "stdin",
     "output_type": "stream",
     "text": [
      "Enter the rainfall amount for the quarter 1:  3\n",
      "Enter the rainfall amount for the quarter 2:  4\n",
      "Enter the rainfall amount for the quarter 3:  2\n",
      "Enter the rainfall amount for the quarter 4:  6\n"
     ]
    },
    {
     "name": "stdout",
     "output_type": "stream",
     "text": [
      "\n",
      "For 4 quarters / 1 years:\n",
      "Total rainfall: 15.00 inches\n",
      "Average quarterly rainfall: 3.75 inches\n",
      "Average yearly rainfall: 15.00 inches\n"
     ]
    }
   ],
   "source": [
    "\"\"\"\n",
    "Add comments for your own reference\n",
    "\"\"\"\n",
    "\n",
    "totalRainfall = 0.0\n",
    "totalQuarters = 0\n",
    "\n",
    "years = int(input('Enter the number of years: '))\n",
    "\n",
    "for year in range(years):\n",
    "    print (f'\\nFor year {year + 1}:')\n",
    "    for quarter in range(4):\n",
    "        quarterRainfall = float(input(f'Enter the rainfall amount for the quarter {quarter+1}: '))\n",
    "        totalQuarters += 1\n",
    "        totalRainfall += quarterRainfall\n",
    "        \n",
    "\n",
    "print(f'\\nFor {totalQuarters} quarters / {years} years:')\n",
    "print(f'Total rainfall: {totalRainfall:,.2f} inches')\n",
    "print(f'Average quarterly rainfall: {totalRainfall / totalQuarters:,.2f} inches')\n",
    "print(f'Average yearly rainfall: {totalRainfall / years:,.2f} inches')"
   ]
  },
  {
   "cell_type": "markdown",
   "id": "9b967ade",
   "metadata": {},
   "source": [
    "**Evaluation:**\n",
    "\n",
    "After running this program, think about and answer these questions:\n",
    "\n",
    "1. What is the program doing? The program is calculating the amount of rainfall per quarter, total rainfall, average quarterly rainfall, and average yearly rainfall. \n",
    "2. How many time does each line in the code execute, explain? Each line in the code executes once. \n",
    "3. Could you find a way to break it? Yes, you can break the code by entering a number that is not 1 as the first input. \n",
    "4. Compare the number of executions for the inner for loop to the outer for loop. The outer loop executes 1 times. The inner loop executes 3 times. \n",
    "5. What order of magnitude larger are the inner instructions executing? The magnitude is 3 times larger. "
   ]
  },
  {
   "cell_type": "markdown",
   "id": "e9fa01eb",
   "metadata": {},
   "source": [
    "## Group Activity 3:\n",
    "\n",
    "Develop a program that will:\n",
    "\n",
    "1. Take input from the user asking how many organisms to start with.\n",
    "2. Take input from the user asking the average daily increase for the organisms.\n",
    "3. Take input from the user asking the number of days to multiply.\n",
    "4. Make sure the daily increase was entered as a percentage, if not correct it.\n",
    "5. Print each day and the increase in organsisms for each day. \n",
    "6. Make sure to format the printing so that it is readable."
   ]
  },
  {
   "cell_type": "code",
   "execution_count": 134,
   "id": "f19c1bbe",
   "metadata": {},
   "outputs": [
    {
     "name": "stdin",
     "output_type": "stream",
     "text": [
      "How many organisms are there?  1\n",
      "What is the average daily increase in organisms (as a percentage)?  10\n",
      "How many days will the organisms multiply?  3\n"
     ]
    },
    {
     "name": "stdout",
     "output_type": "stream",
     "text": [
      "---------------------\n",
      "Day \t\t Increase in Organisms \t Total Organisms\n",
      "---------------------------------------\n",
      "1\t\t0.10\t\t\t1.10\n",
      "2\t\t0.11\t\t\t1.21\n",
      "3\t\t0.12\t\t\t1.33\n"
     ]
    }
   ],
   "source": [
    "organisms = int(input(\"How many organisms are there? \"))\n",
    "daily_growth = float(input(\"What is the average daily increase in organisms (as a percentage)? \"))\n",
    "days = int(input(\"How many days will the organisms multiply? \"))\n",
    "if daily_growth < 0:\n",
    "    print(\"Daily growth percentage cannot be negative. Setting it to 0.\")\n",
    "daily_growth_decimal = daily_growth / 100\n",
    "\n",
    "print('---------------------')\n",
    "print('Day', '\\t\\t', 'Increase in Organisms', '\\t', 'Total Organisms')\n",
    "print('---------------------------------------')\n",
    "for day in range(1 , days +1 ):\n",
    "    increase = organisms * daily_growth_decimal\n",
    "    organisms += increase  \n",
    "    print(f'{day}\\t\\t{increase:.2f}\\t\\t\\t{organisms:.2f}')\n"
   ]
  },
  {
   "cell_type": "markdown",
   "id": "d1a38a11",
   "metadata": {},
   "source": [
    "## 7. Data Structures (Follow)\n",
    "\n",
    "**Learning Objectives:**\n",
    "\n",
    "1. Understand lists and Nested Lists\n",
    "2. Understand tuples\n",
    "3. Understand dictionaries and sets\n",
    "4. Understand List Comprehension"
   ]
  },
  {
   "cell_type": "markdown",
   "id": "87800b86",
   "metadata": {},
   "source": [
    "### 7.1 Lists and Nested Lists"
   ]
  },
  {
   "cell_type": "code",
   "execution_count": 96,
   "id": "f6d0b3b8",
   "metadata": {},
   "outputs": [
    {
     "name": "stdout",
     "output_type": "stream",
     "text": [
      "<class 'str'>\n",
      "[20, 35, 25]\n",
      "Daily Profit:\n",
      "Sunday - Profit: 245\n",
      "Monday - Profit: 305\n",
      "Tuesday - Profit: 360\n",
      "Wednesday - Profit: 480\n",
      "Thursday - Profit: 500\n",
      "Friday - Profit: 1050\n",
      "Saturday - Profit: 410\n",
      "[245, 305, 360, 480, 500, 1050, 410]\n",
      "245\n",
      "305\n",
      "360\n",
      "480\n",
      "500\n",
      "1050\n",
      "410\n",
      "\n",
      "Total Profit - 3350\n"
     ]
    }
   ],
   "source": [
    "\"\"\"\n",
    "Add comments for your own reference\n",
    "\"\"\"\n",
    "\n",
    "profit = 0\n",
    "\n",
    "days = ['Sunday', 'Monday', 'Tuesday','Wednesday', 'Thursday', 'Friday', 'Saturday']\n",
    "prices = [20,15,25]\n",
    "\n",
    "print(type(days[0]))\n",
    "prices[1] = 35\n",
    "print(prices)\n",
    "\n",
    "sales_by_day = [[2,3,4],[10,3,0],[5,6,2],[6,6,6],[0,0,20],[8,5,3],[3,5,7]]\n",
    "\n",
    "sales_by_day[5] = [10,10,20]\n",
    "\n",
    "total_sales_by_day = []\n",
    "\n",
    "for i in range(len(days)):\n",
    "    daily_profit = 0\n",
    "    for j in range(len(prices)):\n",
    "        daily_profit += (sales_by_day[i][j]*prices[j])\n",
    "    total_sales_by_day.append(daily_profit)\n",
    "    \n",
    "print(\"Daily Profit:\")\n",
    "for i in range(len(days)):\n",
    "    print(f\"{days[i]} - Profit: {total_sales_by_day[i]}\")\n",
    "\n",
    "print(total_sales_by_day)\n",
    "for i in total_sales_by_day:\n",
    "    print(i)\n",
    "    profit += i\n",
    "    \n",
    "print(f\"\\nTotal Profit - {profit}\")\n"
   ]
  },
  {
   "cell_type": "markdown",
   "id": "4b2350c8",
   "metadata": {},
   "source": [
    "**Evaluation:**\n",
    "\n",
    "After running the above code, think about and answer the following questions:\n",
    "\n",
    "1. What is the program doing? The program takes the daily profit of each day of the week, creates a list, and adds the total profit for the week. \n",
    "2. What does the append function do? It adds the daily profit next to the day of the week.\n",
    "3. What changes when the commented sections are uncommented? The comments that are uncommented alter the code by including the type of class the input is. In addition, it changes the price of Monday to 35. Finally, it prints the new prices. \n",
    "4. Is a more efficient code possible? How? Yes, there is a more efficient code that is possible by using while loops, nested loops, nested lists, and other data types."
   ]
  },
  {
   "cell_type": "markdown",
   "id": "4e934e37",
   "metadata": {},
   "source": [
    "### 7.2 Tuples"
   ]
  },
  {
   "cell_type": "code",
   "execution_count": 140,
   "id": "59d56ca1",
   "metadata": {},
   "outputs": [
    {
     "name": "stdout",
     "output_type": "stream",
     "text": [
      "Alex gave Neil $ 200\n",
      "Bob gave Mason $ 500\n",
      "Cathy gave Oxford $ 350\n"
     ]
    },
    {
     "name": "stdin",
     "output_type": "stream",
     "text": [
      "Enter Payer:  alex\n",
      "Enter Payee:  bob\n",
      "Enter Amount:  100\n"
     ]
    }
   ],
   "source": [
    "\"\"\"\n",
    "Add comments for your own reference\n",
    "\"\"\"\n",
    "\n",
    "payer = ('Alex','Bob','Cathy')\n",
    "payee = ('Neil','Mason','Oxford')\n",
    "amount = (200,500,350)\n",
    "\n",
    "def PrintTransactions(payer,payee,amount):\n",
    "    for i in range(len(payer)):\n",
    "        print(f\"{payer[i]} gave {payee[i]} $ {amount[i]}\")\n",
    "        \n",
    "PrintTransactions(payer,payee,amount)\n",
    "\n",
    "#amount[2] = 300\n",
    "\n",
    "new_payer = input(\"Enter Payer: \")\n",
    "new_payee = input(\"Enter Payee: \")\n",
    "new_amount = int(input(\"Enter Amount: \"))\n",
    "\n",
    "payer += (new_payer,)\n",
    "payee += (new_payee,)\n",
    "amount += (new_amount,)\n",
    "\n",
    "#print(total_sales_by_day)\n",
    "#for i in total_sales_by_day:\n",
    "    #print(i)\n",
    "    #print(profit)\n",
    "    #profit += i\n",
    "    \n",
    "#print(f\"\\nTotal Profit - {profit}\")\n",
    "#print(id(payer))\n",
    "\n",
    "#PrintTransactions(payer,payee,amount)"
   ]
  },
  {
   "cell_type": "markdown",
   "id": "eb200ad0",
   "metadata": {},
   "source": [
    "**Evaluation:**\n",
    "\n",
    "After running the above code, think about and answer the following questions:\n",
    "\n",
    "1. What is the program doing? The program is keeping track of the amount of money payers provide to payees. \n",
    "2. What changes when the commented sections are uncommented? It returns an error becuase tuples are immutable.\n",
    "3. Is a more efficient code possible? How? The most efficient use of tuples is for values that do not change. Yes more efficient code is possible with lists, for loops, and while loops. \n",
    "4. Compare Lists and Tuples Lists are mutable and tuples are immutable. In addition, lists are written with [] and tuples are written with ()."
   ]
  },
  {
   "cell_type": "markdown",
   "id": "52eda7a0",
   "metadata": {},
   "source": [
    "### 7.3 Dictionary"
   ]
  },
  {
   "cell_type": "code",
   "execution_count": 146,
   "id": "7ac95096",
   "metadata": {},
   "outputs": [
    {
     "name": "stdout",
     "output_type": "stream",
     "text": [
      "For Sunday: \n",
      "Profit is $6000\n",
      "\n",
      "For Monday: \n",
      "Profit is $1450\n",
      "\n",
      "For Tuesday: \n",
      "Profit is $2325\n",
      "\n",
      "For Wednesday: \n",
      "Profit is $2250\n",
      "\n",
      "For Thursday: \n",
      "Profit is $2100\n",
      "\n",
      "For Friday: \n",
      "Profit is $375\n",
      "\n",
      "For Saturday: \n",
      "Profit is $4100\n",
      "\n",
      "\n",
      "Total Profit - 18600\n"
     ]
    }
   ],
   "source": [
    "\"\"\"\n",
    "Add comments for your own reference\n",
    "\"\"\"\n",
    "\n",
    "profit = 0\n",
    "\n",
    "days = ['Sunday', 'Monday', 'Tuesday','Wednesday', 'Thursday', 'Friday', 'Saturday']\n",
    "\n",
    "prices = {\n",
    "    'Sunday':20,\n",
    "    'Monday':10,\n",
    "    'Tuesday':15,\n",
    "    'Wednesday':15,\n",
    "    'Thursday': 10,\n",
    "    'Friday':5,\n",
    "    'Saturday':20\n",
    "}\n",
    "\n",
    "sales = {\n",
    "    'Sunday':200,\n",
    "    'Monday':140,\n",
    "    'Tuesday':155,\n",
    "    'Wednesday':150,\n",
    "    'Thursday': 210,\n",
    "    'Friday':75,\n",
    "    'Saturday':205\n",
    "}\n",
    "\n",
    "prices['Sunday'] = 30\n",
    "\n",
    "sales['Monday'] = 145\n",
    "\n",
    "for i in days:\n",
    "    print(f\"For {i}: \")\n",
    "    print(f\"Profit is ${sales[i] * prices[i]}\\n\")\n",
    "    profit += sales[i] * prices[i]\n",
    "    \n",
    "print(f\"\\nTotal Profit - {profit}\")\n"
   ]
  },
  {
   "cell_type": "markdown",
   "id": "a7289c4e",
   "metadata": {},
   "source": [
    "**Evaluation:**\n",
    "\n",
    "After running the above code, think about and answer the following questions:\n",
    "\n",
    "1. What is the program doing? The program is calculating the total profit by adding all of the profits earned for each day of the week. \n",
    "2. What changes when the commented sections are uncommented? The Total Profit changes because the price for Sunday and the sales on Monday both changed. \n",
    "3. Is a more efficient code possible? How? Yes, a more efficient code is possible. \n",
    "4. What is the most effient use case for dictionaries? Dictionaries can define different types of objects. "
   ]
  },
  {
   "cell_type": "markdown",
   "id": "33a4c2af",
   "metadata": {},
   "source": [
    "### 7.4 Sets"
   ]
  },
  {
   "cell_type": "code",
   "execution_count": 148,
   "id": "19720ee6",
   "metadata": {},
   "outputs": [
    {
     "name": "stdout",
     "output_type": "stream",
     "text": [
      "The following students are on the baseball team:\n",
      "Carmen\n",
      "Aida\n",
      "Alicia\n",
      "Jodi\n",
      "\n",
      "The following students are on the basketball team:\n",
      "Carmen\n",
      "Eva\n",
      "Sarah\n",
      "Alicia\n",
      "\n",
      "The following students play both baseball and basketball:\n",
      "Carmen\n",
      "Alicia\n",
      "\n",
      "The following students play either baseball or basketball:\n",
      "Aida\n",
      "Alicia\n",
      "Carmen\n",
      "Sarah\n",
      "Eva\n",
      "Jodi\n",
      "\n",
      "The following students play baseball, but not basketball:\n",
      "Jodi\n",
      "Aida\n",
      "\n",
      "The following students play basketball, but not baseball:\n",
      "Eva\n",
      "Sarah\n",
      "\n",
      "The following students play one sport, but not both:\n",
      "Aida\n",
      "Sarah\n",
      "Eva\n",
      "Jodi\n"
     ]
    }
   ],
   "source": [
    "\"\"\"\n",
    "Add comments for your own reference\n",
    "\"\"\"\n",
    "\n",
    "baseball = set(['Jodi', 'Carmen', 'Aida', 'Alicia'])\n",
    "basketball = set(['Eva', 'Carmen', 'Alicia', 'Sarah'])\n",
    "\n",
    "print('The following students are on the baseball team:')\n",
    "for name in baseball:\n",
    "    print(name)\n",
    "\n",
    "print()\n",
    "print('The following students are on the basketball team:')\n",
    "for name in basketball:\n",
    "    print(name)\n",
    "\n",
    "print()\n",
    "print('The following students play both baseball and basketball:')\n",
    "for name in baseball.intersection(basketball):\n",
    "    print(name)\n",
    "\n",
    "print()\n",
    "print('The following students play either baseball or basketball:')\n",
    "for name in baseball.union(basketball):\n",
    "    print(name)\n",
    "\n",
    "print()\n",
    "print('The following students play baseball, but not basketball:')\n",
    "for name in baseball.difference(basketball):\n",
    "    print(name)\n",
    "\n",
    "print()\n",
    "print('The following students play basketball, but not baseball:')\n",
    "for name in basketball.difference(baseball):\n",
    "    print(name)\n",
    "\n",
    "print()\n",
    "print('The following students play one sport, but not both:')\n",
    "for name in baseball.symmetric_difference(basketball):\n",
    "    print(name)"
   ]
  },
  {
   "cell_type": "code",
   "execution_count": 150,
   "id": "e4d2a235",
   "metadata": {},
   "outputs": [
    {
     "name": "stdout",
     "output_type": "stream",
     "text": [
      "{'over', 'quick', 'nimble', 'the', 'be', 'candlestick', 'jumps', 'jack'}\n"
     ]
    }
   ],
   "source": [
    "\"\"\"\n",
    "Add comments for you own reference\n",
    "\"\"\"\n",
    "\n",
    "words = ['jack', 'be', 'nimble', 'jack', 'be', 'quick', 'jack', 'jumps', 'over', 'the', 'candlestick']\n",
    "\n",
    "print(set(words))"
   ]
  },
  {
   "cell_type": "markdown",
   "id": "5f024134",
   "metadata": {},
   "source": [
    "**Evaluation:**\n",
    "\n",
    "After running the above codes, think about and answer the following questions:\n",
    "\n",
    "1. What is the programs doing? The program is printing the names of people who are on each team. \n",
    "2. What purpose does sets serve? Sets can give us the difference, symmetric difference, intersection, and union of categories of data.\n",
    "3. In the second Code block, what inferences do you derive? We can derive that jack is only printed once although it is repeated throughout the set. \n",
    "4. What is the most effient use case for sets? Sets can be used to demonstrate the intersection, union, and differences in data. \n",
    "5. Summerize lists, tuples, dictionaries, and sets for future reference.\n",
    "   Lists: Lists are ordered data types that are dynamic and mutable. \n",
    "   Tuples: Tuples are data types that are immutable.\n",
    "   Dictionaries: Dictionaries are data types that are dynamic and mutable.They have unique key values. \n",
    "   Sets: Sets are unordered data types with unique values. "
   ]
  },
  {
   "cell_type": "markdown",
   "id": "15d1b0d9",
   "metadata": {},
   "source": [
    "# Group Activity 4: "
   ]
  },
  {
   "cell_type": "markdown",
   "id": "dac55057",
   "metadata": {},
   "source": [
    "Create a game, that does the following:\n",
    "\n",
    "1. Asks the player what is the capital of a state\n",
    "2. Keeps track of correct and incorrect answers\n",
    "3. Makes sure no questions are repeated\n",
    "4. Gives user option to quit any time\n",
    "5. Make sure the game ends when all questions are asked\n",
    "6. Maybe shows the correct answer when user is wrong.\n",
    "\n",
    "Use the following data to begin\n",
    "\n",
    "capitals = {\n",
    "'Alabama':'Montgomery', 'Alaska':'Juneau',\n",
    "'Arizona':'Phoenix', 'Arkansas':'Little Rock',\n",
    "'California':'Sacramento', 'Colorado':'Denver',\n",
    "'Connecticut':'Hartford', 'Delaware':'Dover',\n",
    "'Florida':'Tallahassee', 'Georgia':'Atlanta',\n",
    "'Hawaii':'Honolulu', 'Idaho':'Boise',\n",
    "'Illinois':'Springfield', 'Indiana':'Indianapolis',\n",
    "'Iowa':'Des Moines', 'Kansas':'Topeka',\n",
    "'Kentucky':'Frankfort', 'Louisiana':'Baton Rouge',\n",
    "'Maine':'Augusta', 'Maryland':'Annapolis',\n",
    "'Massachusetts':'Boston', 'Michigan':'Lansing',\n",
    "'Minnesota':'Saint Paul', 'Mississippi':'Jackson',\n",
    "'Missouri':'Jefferson City', 'Montana':'Helena',\n",
    "'Nebraska':'Lincoln', 'Nevada':'Carson City',\n",
    "'New Hampshire':'Concord', 'New Jersey':'Trenton',\n",
    "'New Mexico':'Santa Fe', 'New York':'Albany',\n",
    "'North Carolina':'Raleigh', 'North Dakota':'Bismarck',\n",
    "'Ohio':'Columbus', 'Oklahoma':'Oklahoma City',\n",
    "'Oregon':'Salem', 'Pennsylvania':'Harrisburg',\n",
    "'Rhode Island':'Providence', 'South Carolina':'Columbia',\n",
    "'South Dakota':'Pierre', 'Tennessee':'Nashville',\n",
    "'Texas':'Austin', 'Utah':'Salt Lake City',\n",
    "'Vermont':'Montpelier', 'Virginia':'Richmond',\n",
    "'Washington':'Olympia', 'West Virginia':'Charleston',\n",
    "'Wisconsin':'Madison', 'Wyoming':'Cheyenne'\n",
    "}"
   ]
  },
  {
   "cell_type": "code",
   "execution_count": null,
   "id": "89400327",
   "metadata": {},
   "outputs": [],
   "source": [
    "\n",
    "capitals = {'Alabama':'Montgomery', 'Alaska':'Juneau',\n",
    "                'Arizona':'Phoenix', 'Arkansas':'Little Rock',\n",
    "                'California':'Sacramento', 'Colorado':'Denver',\n",
    "                'Connecticut':'Hartford', 'Delaware':'Dover',\n",
    "                'Florida':'Tallahassee', 'Georgia':'Atlanta',\n",
    "                'Hawaii':'Honolulu', 'Idaho':'Boise',\n",
    "                'Illinois':'Springfield', 'Indiana':'Indianapolis',\n",
    "                'Iowa':'Des Moines', 'Kansas':'Topeka',\n",
    "                'Kentucky':'Frankfort', 'Louisiana':'Baton Rouge',\n",
    "                'Maine':'Augusta', 'Maryland':'Annapolis',\n",
    "                'Massachusetts':'Boston', 'Michigan':'Lansing',\n",
    "                'Minnesota':'Saint Paul', 'Mississippi':'Jackson',\n",
    "                'Missouri':'Jefferson City', 'Montana':'Helena',\n",
    "                'Nebraska':'Lincoln', 'Nevada':'Carson City',\n",
    "                'New Hampshire':'Concord', 'New Jersey':'Trenton',\n",
    "                'New Mexico':'Santa Fe', 'New York':'Albany',\n",
    "                'North Carolina':'Raleigh', 'North Dakota':'Bismarck',\n",
    "                'Ohio':'Columbus', 'Oklahoma':'Oklahoma City',\n",
    "                'Oregon':'Salem', 'Pennsylvania':'Harrisburg',\n",
    "                'Rhode Island':'Providence', 'South Carolina':'Columbia',\n",
    "                'South Dakota':'Pierre', 'Tennessee':'Nashville',\n",
    "                'Texas':'Austin', 'Utah':'Salt Lake City',\n",
    "                'Vermont':'Montpelier', 'Virginia':'Richmond',\n",
    "                'Washington':'Olympia', 'West Virginia':'Charleston',\n",
    "                'Wisconsin':'Madison', 'Wyoming':'Cheyenne'}\n",
    "\n",
    "\n",
    "    "
   ]
  },
  {
   "cell_type": "markdown",
   "id": "c50a9d85",
   "metadata": {},
   "source": [
    "# THANK YOU"
   ]
  },
  {
   "cell_type": "code",
   "execution_count": 152,
   "id": "2259586d",
   "metadata": {},
   "outputs": [
    {
     "name": "stdin",
     "output_type": "stream",
     "text": [
      "What is the capital of Alabama: (Type 'q' to Quit) Montgomery\n",
      "What is the capital of Alaska: (Type 'q' to Quit) Juneau\n",
      "What is the capital of Arizona: (Type 'q' to Quit) Phoenix\n",
      "What is the capital of Arkansas: (Type 'q' to Quit) Little Rock\n",
      "What is the capital of California: (Type 'q' to Quit) Sacrament\n"
     ]
    },
    {
     "name": "stdout",
     "output_type": "stream",
     "text": [
      "That is incorrect, the correct answer was Sacramento\n"
     ]
    },
    {
     "name": "stdin",
     "output_type": "stream",
     "text": [
      "What is the capital of Colorado: (Type 'q' to Quit) Denver\n",
      "What is the capital of Connecticut: (Type 'q' to Quit) q\n"
     ]
    },
    {
     "name": "stdout",
     "output_type": "stream",
     "text": [
      "You answered 5 correctly\n"
     ]
    }
   ],
   "source": [
    "\n",
    "capitals = {'Alabama':'Montgomery', 'Alaska':'Juneau',\n",
    "                'Arizona':'Phoenix', 'Arkansas':'Little Rock',\n",
    "                'California':'Sacramento', 'Colorado':'Denver',\n",
    "                'Connecticut':'Hartford', 'Delaware':'Dover',\n",
    "                'Florida':'Tallahassee', 'Georgia':'Atlanta',\n",
    "                'Hawaii':'Honolulu', 'Idaho':'Boise',\n",
    "                'Illinois':'Springfield', 'Indiana':'Indianapolis',\n",
    "                'Iowa':'Des Moines', 'Kansas':'Topeka',\n",
    "                'Kentucky':'Frankfort', 'Louisiana':'Baton Rouge',\n",
    "                'Maine':'Augusta', 'Maryland':'Annapolis',\n",
    "                'Massachusetts':'Boston', 'Michigan':'Lansing',\n",
    "                'Minnesota':'Saint Paul', 'Mississippi':'Jackson',\n",
    "                'Missouri':'Jefferson City', 'Montana':'Helena',\n",
    "                'Nebraska':'Lincoln', 'Nevada':'Carson City',\n",
    "                'New Hampshire':'Concord', 'New Jersey':'Trenton',\n",
    "                'New Mexico':'Santa Fe', 'New York':'Albany',\n",
    "                'North Carolina':'Raleigh', 'North Dakota':'Bismarck',\n",
    "                'Ohio':'Columbus', 'Oklahoma':'Oklahoma City',\n",
    "                'Oregon':'Salem', 'Pennsylvania':'Harrisburg',\n",
    "                'Rhode Island':'Providence', 'South Carolina':'Columbia',\n",
    "                'South Dakota':'Pierre', 'Tennessee':'Nashville',\n",
    "                'Texas':'Austin', 'Utah':'Salt Lake City',\n",
    "                'Vermont':'Montpelier', 'Virginia':'Richmond',\n",
    "                'Washington':'Olympia', 'West Virginia':'Charleston',\n",
    "                'Wisconsin':'Madison', 'Wyoming':'Cheyenne'}\n",
    "\n",
    "correct = 0\n",
    "incorrect = 0\n",
    "index = 0\n",
    "length = len(capitals) - 1\n",
    "for i in capitals:\n",
    "    if index < length:\n",
    "        answer = input(f\"What is the capital of {i}: (Type 'q' to Quit)\")\n",
    "        if answer != \"q\":\n",
    "            if answer == capitals[i]:\n",
    "                correct += 1\n",
    "            elif answer != capitals[i]:\n",
    "                print(f\"That is incorrect, the correct answer was {capitals[i]}\")\n",
    "                incorrect += 1\n",
    "        elif answer == \"q\":\n",
    "            break;\n",
    "        index += 1\n",
    "    elif index > length:\n",
    "        break;\n",
    "            \n",
    "print(f\"You answered {correct} correctly\")\n",
    "\n",
    "\n"
   ]
  },
  {
   "cell_type": "code",
   "execution_count": null,
   "id": "0b794960-9d24-45df-ba16-8dbf1ae74d71",
   "metadata": {},
   "outputs": [],
   "source": []
  }
 ],
 "metadata": {
  "kernelspec": {
   "display_name": "Python [conda env:base] *",
   "language": "python",
   "name": "conda-base-py"
  },
  "language_info": {
   "codemirror_mode": {
    "name": "ipython",
    "version": 3
   },
   "file_extension": ".py",
   "mimetype": "text/x-python",
   "name": "python",
   "nbconvert_exporter": "python",
   "pygments_lexer": "ipython3",
   "version": "3.12.7"
  }
 },
 "nbformat": 4,
 "nbformat_minor": 5
}
